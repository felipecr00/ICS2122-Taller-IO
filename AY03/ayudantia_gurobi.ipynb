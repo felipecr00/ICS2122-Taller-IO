{
 "cells": [
  {
   "cell_type": "markdown",
   "metadata": {},
   "source": [
    "<img src=\"guro.png\" alt=\"Drawing\" style=\"width: 250px; margin-left:-1px;\"/>\n"
   ]
  },
  {
   "cell_type": "markdown",
   "metadata": {},
   "source": [
    "# Ayudantía 3: Gurobi\n",
    "\n",
    "* Felipe Cornejo - facornejo@uc.cl\n",
    "* Sebastián Barriga - sabarriga@uc.cl\n",
    "\n",
    "### Guía de instalación:\n",
    "\n",
    "1. Tener instalado Python\n",
    "2. Registrarse en Gurobi con el mail UC [https://www.gurobi.com/es/]\n",
    "3. Descargar Gurobi [http://www.gurobi.com/downloads/gurobi-optimizer]\n",
    "4. Pedir Licencia académica [http://www.gurobi.com/downloads/licenses/license-center]\n",
    "5. Activar la licencia usando la red wifi UC (debe hacerse desde la red de la UC). Siga la documentación [http://www.gurobi.com/documentation/]\n",
    "6. Instalar Gurobi en Anaconda*.\n",
    "7. Seguir instrucciones de instalación en [http://www.gurobi.com/documentation/]\n",
    "\n",
    "\n",
    "*_Si bien no es del todo recomendable instalar Anaconda, sí facilita el trabajo al incluir la gran mayoría de paquetes necesarios para trabajar con Gurobi y análisis de datos._"
   ]
  },
  {
   "cell_type": "markdown",
   "metadata": {},
   "source": [
    "### Modelando con Gurobi\n",
    "Crear un modelo con Gurobi requiere de 6 pasos\n",
    "\n",
    "* __Crear modelo:__ m = Model( )\n",
    "* __Agregar variables:__ x = m.addVar(...)\n",
    "* __Actualizar cambios:__ m.update( )\n",
    "* __Fijar función objetivo:__ m.setObjective(...)\n",
    "* __Agregar restricciones:__ m.addConstr(...)\n",
    "* __Optimizar!:__ m.optimize( )"
   ]
  },
  {
   "cell_type": "code",
   "execution_count": 1,
   "metadata": {},
   "outputs": [],
   "source": [
    "from gurobipy import *"
   ]
  },
  {
   "cell_type": "markdown",
   "metadata": {},
   "source": [
    "# Ejemplo\n",
    "Problema proporcionado por [Gurobi](https://www.gurobi.com/es/resource/functional-code-examples/)\n",
    "\n",
    "Formulación matemática de un problema de maximización:"
   ]
  },
  {
   "cell_type": "markdown",
   "metadata": {},
   "source": [
    "\n",
    "\n",
    "  \n",
    "  $$max(x + y + 2z)$$\n",
    "  subject to\n",
    "        $$x + 2 y + 3 z <= 4$$\n",
    "        $$x +   y       >= 1$$\n",
    "        $$x, y, z \\hspace{0.3cm}binary$$ "
   ]
  },
  {
   "cell_type": "code",
   "execution_count": 2,
   "metadata": {},
   "outputs": [
    {
     "name": "stdout",
     "output_type": "stream",
     "text": [
      "Optimize a model with 2 rows, 3 columns and 5 nonzeros\n",
      "Variable types: 0 continuous, 3 integer (3 binary)\n",
      "Coefficient statistics:\n",
      "  Matrix range     [1e+00, 3e+00]\n",
      "  Objective range  [1e+00, 2e+00]\n",
      "  Bounds range     [1e+00, 1e+00]\n",
      "  RHS range        [1e+00, 4e+00]\n",
      "Found heuristic solution: objective 2.0000000\n",
      "Presolve removed 2 rows and 3 columns\n",
      "Presolve time: 0.00s\n",
      "Presolve: All rows and columns removed\n",
      "\n",
      "Explored 0 nodes (0 simplex iterations) in 0.01 seconds\n",
      "Thread count was 1 (of 4 available processors)\n",
      "\n",
      "Solution count 2: 3 2 \n",
      "\n",
      "Optimal solution found (tolerance 1.00e-04)\n",
      "Best objective 3.000000000000e+00, best bound 3.000000000000e+00, gap 0.0000%\n",
      "x 1\n",
      "y 0\n",
      "z 1\n",
      "Obj: 3.0\n"
     ]
    }
   ],
   "source": [
    "#!/usr/bin/python\n",
    "# Copyright 2019, Gurobi Optimization, LLC\n",
    "\n",
    "# Create a new model\n",
    "m = Model(\"mip1\")\n",
    "\n",
    "    # Create variables\n",
    "x = m.addVar(vtype=GRB.BINARY, name=\"x\")\n",
    "y = m.addVar(vtype=GRB.BINARY, name=\"y\")\n",
    "z = m.addVar(vtype=GRB.BINARY, name=\"z\")\n",
    "\n",
    "    # Set objective\n",
    "m.setObjective(x + y + 2 * z, GRB.MAXIMIZE)\n",
    "\n",
    "    # Add constraint: x + 2 y + 3 z <= 4\n",
    "m.addConstr(x + 2 * y + 3 * z <= 4, \"c0\")\n",
    "\n",
    "    # Add constraint: x + y >= 1\n",
    "m.addConstr(x + y >= 1, \"c1\")\n",
    "\n",
    "    # Optimize model\n",
    "m.optimize()\n",
    "\n",
    "for v in m.getVars():\n",
    "    print('%s %g' % (v.varName, v.x))\n",
    "print(f'Obj: {m.objVal}')"
   ]
  },
  {
   "cell_type": "code",
   "execution_count": 3,
   "metadata": {},
   "outputs": [],
   "source": [
    "from random import randint, choice, seed\n",
    "seed(1)"
   ]
  },
  {
   "cell_type": "markdown",
   "metadata": {},
   "source": [
    "# Gurobi infeasible model\n",
    "\n",
    "Cuando creamos nuestros modelos de optimización, ya sea desde su formulación matemática, hasta su implementación en código, existen diferentes razones por las cuáles el problema que hemos modelado puede resultar **infactible**. Considerando que el modelo matemático pueda estar bien escrito; en su mayoría las infactibilidades nacen cuando hemos dejado de considerar **factores importantes que gobiernan el problema**, por ejemplo: los valores de los parámetros, el tipo de restricciones utilizada no describen correctamente el problema, hemos omitido alguna información, etc.\n",
    "\n",
    "El problema por analizar a continuación, es una adaptación de la documentación de Gurobi y tiene los siguientes objetivos:\n",
    "\n",
    "* Resolver un modelo de asignación de trabajadores a turnos.\n",
    "* Este modelo en particular es infactible, intentaremos determinar a qué se debe.\n",
    "* Explorar las funciones de Gurobi que nos permiten observar qué sucede en estos casos.\n",
    "* Aprovechar la notación y simplificación que hace Gurobi para representar modelos de optimización."
   ]
  },
  {
   "cell_type": "markdown",
   "metadata": {},
   "source": [
    "## Problema propuesto\n",
    "\n",
    "Le han solicitado desde su empresa realizar la planificación para los turnos de los trabajadores para las próximas 2 semanas (a contar del día Lunes) y minimizar los costos asociados a esta. Debido al tipo de producción que realiza su empresa, es importante que la planta de operaciones cuente en todo momento con operarios para garantizar su funcionamiento, por lo que usted debe contar con la cantidad necesaria de personal para los 7 días de la semana. La cantidad de personal requerido para operar en las instalaciones de la empresa varía aleatoriamente entre 2 a 7 trabajadores (puede considerarlo una distribución uniforme). Por otra parte, usted dispone de una cantidad limitada de operarios (7 en esta ocasión), los cuales tienen diferentes disponibilidades para trabajar en la semana. La disponibilidad de cada trabajador varía entre 5 a 13 días para trabajar en el horizonte de las dos semanas. Asociado a esto, cada trabajador cobra un sueldo por turno trabajado. \n",
    "\n",
    "El problema puede ser interpretado por el siguiente modelo matemático:\n",
    "\n",
    "__Indices:__\n",
    "\n",
    "* $t$: índice que indica el trabajador $t$\n",
    "* $s$: índice que indica el turno $s$\n",
    "\n",
    "__Variables de decisión:__\n",
    "* $X_{t,s}$: Variable binaria, __1__ si el trabajador $t$ es asignado al turno $s$, **0** e.o.c.\n",
    "\n",
    "__Parámetros:__\n",
    "* $P_{t}$: Pago asociado al trabajador $t$\n",
    "* $r_{s}$: Requerimiento del turno $s$\n",
    "\n",
    "$$min \\sum_{t,s} P_{t}X_{t,s}$$\n",
    "\n",
    "$$\\sum_{t,s} X_{t,s} = r_{s} \\hspace{0.5cm} \\forall s$$\n",
    "\n",
    "$$n.v. \\hspace{0.4cm} X_{t,s} \\in {0,1}$$\n",
    "\n",
    "\n"
   ]
  },
  {
   "cell_type": "markdown",
   "metadata": {},
   "source": [
    "# Estrategia de modelación:"
   ]
  },
  {
   "cell_type": "markdown",
   "metadata": {},
   "source": [
    "## Modelo\n",
    "Creamos el modelo de Gurobi con la función Model( )"
   ]
  },
  {
   "cell_type": "code",
   "execution_count": 4,
   "metadata": {},
   "outputs": [],
   "source": [
    "m = Model(\"planificacion\")"
   ]
  },
  {
   "cell_type": "markdown",
   "metadata": {},
   "source": [
    "Vamos a crear un horizonte temporal de 2 semanas como enuncia el problema para favorecer su interpretación."
   ]
  },
  {
   "cell_type": "code",
   "execution_count": 5,
   "metadata": {},
   "outputs": [],
   "source": [
    "semanas = 2\n",
    "dias = [\"L\",\"M\",\"W\",\"J\",\"V\",\"S\",\"D\"]\n",
    "turnos = [v+str(i+1) for i, v in enumerate(dias*semanas)] # [\"L1\",\"M2\",\"W3\",\"J4\",\"V5\",\"S6\",\"D7\",\"L8\",...]"
   ]
  },
  {
   "cell_type": "markdown",
   "metadata": {},
   "source": [
    "Creamos nuestro set de datos, el cual consiste en la lista de trabajadores, sus turnos y disponibilidad. Por otra parte, definimos los requerimientos de trabajadores por turno."
   ]
  },
  {
   "cell_type": "code",
   "execution_count": 6,
   "metadata": {},
   "outputs": [],
   "source": [
    "trabajadores = [\"Tomas\", \"Javiera\", \"Marcelo\", \"Jorge\", \"Ana\", \"Camila\", \"Diego\"]"
   ]
  },
  {
   "cell_type": "code",
   "execution_count": 7,
   "metadata": {},
   "outputs": [],
   "source": [
    "# pagos asociados\n",
    "pago = {\"Tomas\":  10, \n",
    "        \"Javiera\":12, \n",
    "        \"Marcelo\":10, \n",
    "        \"Jorge\":  8, \n",
    "        \"Ana\":    8, \n",
    "        \"Camila\": 9, \n",
    "        \"Diego\":  11}"
   ]
  },
  {
   "cell_type": "code",
   "execution_count": 8,
   "metadata": {},
   "outputs": [
    {
     "name": "stdout",
     "output_type": "stream",
     "text": [
      "{'L1': 3, 'M2': 6, 'W3': 2, 'J4': 4, 'V5': 2, 'S6': 5, 'D7': 5, 'L8': 5, 'M9': 7, 'W10': 5, 'J11': 3, 'V12': 2, 'S13': 5, 'D14': 2}\n"
     ]
    }
   ],
   "source": [
    "# requerimientos por turno\n",
    "requerimientos = {}\n",
    "for i in turnos:\n",
    "    requerimientos[i] = randint(2,7)\n",
    "print(requerimientos)"
   ]
  },
  {
   "cell_type": "markdown",
   "metadata": {},
   "source": [
    "Disponibilidad de los trabajadores"
   ]
  },
  {
   "cell_type": "code",
   "execution_count": 9,
   "metadata": {},
   "outputs": [
    {
     "name": "stdout",
     "output_type": "stream",
     "text": [
      "<gurobi.tuplelist (75 tuples, 2 values each):\n",
      " ( Tomas   , D7  )\n",
      " ( Tomas   , W10 )\n",
      " ( Tomas   , S13 )\n",
      " ( Tomas   , L1  )\n",
      " ( Tomas   , V12 )\n",
      " ( Tomas   , L8  )\n",
      " ( Tomas   , V5  )\n",
      " ( Tomas   , J4  )\n",
      " ( Tomas   , M2  )\n",
      " ( Tomas   , S6  )\n",
      " ( Tomas   , J11 )\n",
      " ( Javiera , L1  )\n",
      " ( Javiera , D7  )\n",
      " ( Javiera , J11 )\n",
      " ( Javiera , J4  )\n",
      " ( Javiera , V12 )\n",
      " ( Javiera , M9  )\n",
      " ( Javiera , S13 )\n",
      " ( Javiera , L8  )\n",
      " ( Javiera , S6  )\n",
      " ( Javiera , V5  )\n",
      " ( Javiera , D14 )\n",
      " ( Javiera , M2  )\n",
      " ( Javiera , W3  )\n",
      " ( Marcelo , M2  )\n",
      " ( Marcelo , V12 )\n",
      " ( Marcelo , S6  )\n",
      " ( Marcelo , M9  )\n",
      " ( Marcelo , D7  )\n",
      " ( Marcelo , D14 )\n",
      " ( Marcelo , J11 )\n",
      " ( Marcelo , J4  )\n",
      " ( Marcelo , V5  )\n",
      " ( Jorge   , W10 )\n",
      " ( Jorge   , L8  )\n",
      " ( Jorge   , D14 )\n",
      " ( Jorge   , M9  )\n",
      " ( Jorge   , D7  )\n",
      " ( Jorge   , L1  )\n",
      " ( Jorge   , J4  )\n",
      " ( Jorge   , V12 )\n",
      " ( Jorge   , S13 )\n",
      " ( Ana     , D7  )\n",
      " ( Ana     , J11 )\n",
      " ( Ana     , W3  )\n",
      " ( Ana     , S6  )\n",
      " ( Ana     , M9  )\n",
      " ( Ana     , V12 )\n",
      " ( Ana     , S13 )\n",
      " ( Ana     , M2  )\n",
      " ( Ana     , L8  )\n",
      " ( Ana     , D14 )\n",
      " ( Ana     , L1  )\n",
      " ( Camila  , L1  )\n",
      " ( Camila  , V5  )\n",
      " ( Camila  , V12 )\n",
      " ( Camila  , D14 )\n",
      " ( Camila  , W10 )\n",
      " ( Camila  , D7  )\n",
      " ( Camila  , J11 )\n",
      " ( Camila  , W3  )\n",
      " ( Camila  , M9  )\n",
      " ( Camila  , J4  )\n",
      " ( Camila  , S13 )\n",
      " ( Camila  , S6  )\n",
      " ( Diego   , L8  )\n",
      " ( Diego   , V5  )\n",
      " ( Diego   , J11 )\n",
      " ( Diego   , M9  )\n",
      " ( Diego   , W10 )\n",
      " ( Diego   , V12 )\n",
      " ( Diego   , L1  )\n",
      " ( Diego   , D7  )\n",
      " ( Diego   , S13 )\n",
      " ( Diego   , D14 )\n",
      ">\n"
     ]
    }
   ],
   "source": [
    "# optimizamos sólo los días disponibles\n",
    "\n",
    "disponibilidad = []\n",
    "for trabajador in trabajadores:\n",
    "    count = 1\n",
    "    dias_disponibles = randint(5,13)\n",
    "    while(count <= dias_disponibles):\n",
    "        while True:\n",
    "            eleccion = choice(turnos)\n",
    "            if (trabajador, eleccion) not in disponibilidad:\n",
    "                disponibilidad.append((trabajador,eleccion))\n",
    "                break\n",
    "        count += 1\n",
    "disponibilidad = tuplelist(disponibilidad)\n",
    "print(disponibilidad)"
   ]
  },
  {
   "cell_type": "markdown",
   "metadata": {},
   "source": [
    "## Variables de decisión"
   ]
  },
  {
   "cell_type": "markdown",
   "metadata": {},
   "source": [
    "Variable binaria x\\[t,s\\] = 1 si el trabajador t es asignado al turno s"
   ]
  },
  {
   "cell_type": "code",
   "execution_count": 10,
   "metadata": {},
   "outputs": [],
   "source": [
    "x = m.addVars(disponibilidad, ub=1, name=\"x\")"
   ]
  },
  {
   "cell_type": "markdown",
   "metadata": {},
   "source": [
    "## Función Objetivo\n",
    "\n",
    "Minimizar el salario total"
   ]
  },
  {
   "cell_type": "code",
   "execution_count": 11,
   "metadata": {},
   "outputs": [],
   "source": [
    "m.setObjective(sum(pago[t]*x[t,s] for t,s in disponibilidad), GRB.MINIMIZE)"
   ]
  },
  {
   "cell_type": "markdown",
   "metadata": {},
   "source": [
    "## Restricciones asociadas al problema\n",
    "\n",
    "Por cada turno, el numero de trabajadores debe ser igual al que se necesita para ese turno."
   ]
  },
  {
   "cell_type": "code",
   "execution_count": 12,
   "metadata": {},
   "outputs": [],
   "source": [
    "# La funcion sum es aplicable a tuplas, esta retorna la suma de los valores asociados a determinadas keys.\n",
    "# El '*' indica que cualquier valor es aceptado en ese campo, si no colocamos argumentos entonces se retorna la suma\n",
    "# de todos los valores en la tupla\n",
    "# https://www.gurobi.com/documentation/8.1/refman/py_tupledict_sum.html\n",
    "reqCts = m.addConstrs((x.sum('*', s) == requerimientos[s] for s in turnos),\"_\")"
   ]
  },
  {
   "cell_type": "code",
   "execution_count": 13,
   "metadata": {},
   "outputs": [
    {
     "name": "stdout",
     "output_type": "stream",
     "text": [
      "Optimize a model with 14 rows, 75 columns and 75 nonzeros\n",
      "Coefficient statistics:\n",
      "  Matrix range     [1e+00, 1e+00]\n",
      "  Objective range  [8e+00, 1e+01]\n",
      "  Bounds range     [1e+00, 1e+00]\n",
      "  RHS range        [2e+00, 7e+00]\n",
      "Presolve removed 2 rows and 32 columns\n",
      "Presolve time: 0.01s\n",
      "\n",
      "Solved in 0 iterations and 0.01 seconds\n",
      "Infeasible model\n"
     ]
    }
   ],
   "source": [
    "# optimizamos\n",
    "\n",
    "m.optimize()"
   ]
  },
  {
   "cell_type": "code",
   "execution_count": 14,
   "metadata": {},
   "outputs": [],
   "source": [
    "m.write(\"file_infeasible.lp\")\n",
    "m.write(\"file_infeasible.mps\")"
   ]
  },
  {
   "cell_type": "markdown",
   "metadata": {},
   "source": [
    "# Modificando el modelo\n",
    "\n",
    "* Cambiar coeficientes (objective, RHS, Matrix, Bounds)\n",
    "* Cambiar Variables (continuas o enteras)\n",
    "* Agregar/Borrar Variables o restricciones\n",
    "* feasRelaxS permite crear una relajación factible del modelo\n"
   ]
  },
  {
   "cell_type": "markdown",
   "metadata": {},
   "source": [
    "La relajación factible es un modelo que, cuando se soluciona, minimiza la cantidad por la cual la solución viola\n",
    "las cotas y restricciones del problema original. Este método provee diferentes opciones para la relajación.\n"
   ]
  },
  {
   "cell_type": "code",
   "execution_count": 15,
   "metadata": {},
   "outputs": [
    {
     "name": "stdout",
     "output_type": "stream",
     "text": [
      "Optimize a model with 14 rows, 103 columns and 103 nonzeros\n",
      "Coefficient statistics:\n",
      "  Matrix range     [1e+00, 1e+00]\n",
      "  Objective range  [1e+00, 1e+00]\n",
      "  Bounds range     [1e+00, 1e+00]\n",
      "  RHS range        [2e+00, 7e+00]\n",
      "Presolve removed 5 rows and 76 columns\n",
      "Presolve time: 0.01s\n",
      "Presolved: 9 rows, 27 columns, 27 nonzeros\n",
      "\n",
      "Iteration    Objective       Primal Inf.    Dual Inf.      Time\n",
      "       0    4.0000000e+00   0.000000e+00   0.000000e+00      0s\n",
      "       0    4.0000000e+00   0.000000e+00   0.000000e+00      0s\n",
      "\n",
      "Solved in 0 iterations and 0.02 seconds\n",
      "Optimal objective  4.000000000e+00\n"
     ]
    }
   ],
   "source": [
    "# Argumentos \n",
    "# modelo que minimiza la cantidad donde la solucion viola los limites y las restricciones del modelo original\n",
    "# relaxobjtype: 0 para minimizar la suma de las magnitudes de los limites y restricciones violadas\n",
    "# relaxobjtype: 1 para minimizar la suma de los cuadrados de limites y restricciones violados\n",
    "# relaxobjtype: 2 para minimizar la suma total de limites y restricciones violados\n",
    "\n",
    "# Si una restriccion fuera violada por una cantidad de 2, la funcion contribuye en 2 a la relajacion con 0, 2*2 en 1 y 1 en 2.\n",
    "\n",
    "# minrelax: booleano que controla el tipo de relajacion creado. False minimiza el costo de la violacion, True encuentra \n",
    "# una solucion que minimiza el objetivo original solo a traves de estas soluciones minimiza el costo de la violacion (costoso)\n",
    "\n",
    "# vrelax: indica si las cotas de las variables pueden ser relajadas\n",
    "# crelax: indica si las restricciones pueden ser relajadas\n",
    "\n",
    "\n",
    "orignumvars = m.NumVars\n",
    "m.feasRelaxS(0, False, False, True)\n",
    "m.optimize()"
   ]
  },
  {
   "cell_type": "markdown",
   "metadata": {},
   "source": [
    "Si deseamos ver las variables y los valores que asumen"
   ]
  },
  {
   "cell_type": "code",
   "execution_count": 16,
   "metadata": {},
   "outputs": [
    {
     "name": "stdout",
     "output_type": "stream",
     "text": [
      "\n",
      "    Variable            X \n",
      "-------------------------\n",
      "     ArtP_M2            2 \n",
      "     ArtP_M9            1 \n",
      "    ArtP_W10            1 \n"
     ]
    }
   ],
   "source": [
    "m.printAttr('X',\"Art*\")"
   ]
  },
  {
   "cell_type": "code",
   "execution_count": 17,
   "metadata": {},
   "outputs": [
    {
     "name": "stdout",
     "output_type": "stream",
     "text": [
      "4.0\n"
     ]
    }
   ],
   "source": [
    "print(m.objVal)"
   ]
  },
  {
   "cell_type": "code",
   "execution_count": 18,
   "metadata": {
    "scrolled": true
   },
   "outputs": [
    {
     "name": "stdout",
     "output_type": "stream",
     "text": [
      "\n",
      "    Variable            X \n",
      "-------------------------\n",
      " x[Tomas,D7]            1 \n",
      "x[Tomas,W10]            1 \n",
      "x[Tomas,S13]            1 \n",
      " x[Tomas,L8]            1 \n",
      " x[Tomas,V5]            1 \n",
      " x[Tomas,J4]            1 \n",
      " x[Tomas,M2]            1 \n",
      " x[Tomas,S6]            1 \n",
      "x[Javiera,L1]            1 \n",
      "x[Javiera,D7]            1 \n",
      "x[Javiera,J4]            1 \n",
      "x[Javiera,V12]            1 \n",
      "x[Javiera,M9]            1 \n",
      "x[Javiera,L8]            1 \n",
      "x[Javiera,S6]            1 \n",
      "x[Javiera,D14]            1 \n",
      "x[Javiera,M2]            1 \n",
      "x[Marcelo,M2]            1 \n",
      "x[Marcelo,S6]            1 \n",
      "x[Marcelo,M9]            1 \n",
      "x[Marcelo,D7]            1 \n",
      "x[Marcelo,J11]            1 \n",
      "x[Marcelo,J4]            1 \n",
      "x[Jorge,W10]            1 \n",
      " x[Jorge,L8]            1 \n",
      " x[Jorge,M9]            1 \n",
      " x[Jorge,D7]            1 \n",
      " x[Jorge,L1]            1 \n",
      " x[Jorge,J4]            1 \n",
      "x[Jorge,S13]            1 \n",
      "   x[Ana,D7]            1 \n",
      "  x[Ana,J11]            1 \n",
      "   x[Ana,W3]            1 \n",
      "   x[Ana,S6]            1 \n",
      "   x[Ana,M9]            1 \n",
      "  x[Ana,V12]            1 \n",
      "  x[Ana,S13]            1 \n",
      "   x[Ana,M2]            1 \n",
      "   x[Ana,L8]            1 \n",
      "x[Camila,W10]            1 \n",
      "x[Camila,J11]            1 \n",
      "x[Camila,W3]            1 \n",
      "x[Camila,M9]            1 \n",
      "x[Camila,S13]            1 \n",
      "x[Camila,S6]            1 \n",
      " x[Diego,L8]            1 \n",
      " x[Diego,V5]            1 \n",
      " x[Diego,M9]            1 \n",
      "x[Diego,W10]            1 \n",
      " x[Diego,L1]            1 \n",
      "x[Diego,S13]            1 \n",
      "x[Diego,D14]            1 \n",
      "     ArtP_M2            2 \n",
      "     ArtP_M9            1 \n",
      "    ArtP_W10            1 \n"
     ]
    }
   ],
   "source": [
    "m.printAttr('X')"
   ]
  },
  {
   "cell_type": "code",
   "execution_count": 19,
   "metadata": {},
   "outputs": [],
   "source": [
    "m.write(\"file.lp\")"
   ]
  },
  {
   "cell_type": "code",
   "execution_count": 20,
   "metadata": {},
   "outputs": [],
   "source": [
    "# for c in m.getConstrs():\n",
    "#     print(m.getRow(c))"
   ]
  },
  {
   "cell_type": "code",
   "execution_count": 21,
   "metadata": {},
   "outputs": [],
   "source": [
    "# for v in m.getVars():\n",
    "#     print(v.x)"
   ]
  },
  {
   "cell_type": "markdown",
   "metadata": {},
   "source": [
    "Para conocer las variables originales"
   ]
  },
  {
   "cell_type": "code",
   "execution_count": 22,
   "metadata": {},
   "outputs": [
    {
     "data": {
      "text/plain": [
       "75"
      ]
     },
     "execution_count": 22,
     "metadata": {},
     "output_type": "execute_result"
    }
   ],
   "source": [
    "orignumvars"
   ]
  },
  {
   "cell_type": "markdown",
   "metadata": {},
   "source": [
    "También, presentamos un breve interpretación gráfica del problema"
   ]
  },
  {
   "cell_type": "code",
   "execution_count": 23,
   "metadata": {},
   "outputs": [],
   "source": [
    "import pandas as pd\n",
    "\n",
    "holguras = m.getVars()[orignumvars:]\n",
    "data = {\n",
    "    \"dias\":[s[:3] for s in turnos],\n",
    "    \"semanas\": [1+i/7 for i in range(len(turnos))],\n",
    "    \"holguras\": [v.X for v in holguras if v.VarName.startswith(\"ArtP\")]\n",
    "}\n",
    "n = int(len(data[\"holguras\"])/semanas)\n",
    "\n",
    "final = [data[\"holguras\"][i * n:(i + 1) * n] for i in range((len(data[\"holguras\"]) + n - 1)// n )]\n",
    "\n",
    "df = pd.DataFrame(final,columns = [\"L\",\"M\",\"W\",\"J\",\"V\",\"S\",\"D\"])\n"
   ]
  },
  {
   "cell_type": "code",
   "execution_count": 24,
   "metadata": {},
   "outputs": [
    {
     "data": {
      "text/plain": [
       "Text(93.5, 0.5, 'Semanas')"
      ]
     },
     "execution_count": 24,
     "metadata": {},
     "output_type": "execute_result"
    },
    {
     "data": {
      "image/png": "[encoded data removed]",
      "text/plain": [
       "<Figure size 936x504 with 1 Axes>"
      ]
     },
     "metadata": {},
     "output_type": "display_data"
    }
   ],
   "source": [
    "%matplotlib inline\n",
    "import seaborn as sns; sns.set()\n",
    "from matplotlib import pyplot as plt\n",
    "\n",
    "plt.figure(figsize=(13, 7))\n",
    "\n",
    "plt.suptitle('Holguras requeridas por cada semana', size=20)\n",
    "ax = sns.heatmap(df, fmt=\".lf\",linewidths=.25, square = False, cmap = \"Blues\",center = 0.5, cbar=False)\n",
    "ax.set_xlabel(\"Días\", style='italic', size=15)\n",
    "ax.set_ylabel(\"Semanas\", style='italic', size=15)"
   ]
  },
  {
   "cell_type": "markdown",
   "metadata": {},
   "source": [
    "# Gurobi y flujo en redes"
   ]
  },
  {
   "cell_type": "markdown",
   "metadata": {},
   "source": [
    "La idea de esta parte es revisar la resolución de un problema de flujo en redes clásico: TSP o Problema del Vendedor Viajero. De pasada, revisaremos el uso de la librería NetworkX, muy útil para grafos. El código de esta parte de la ayudantía está basado en el siguiente [link](http://www.dcc.fc.up.pt/~jpp/code/gurobi_book/vrp.py), que resuelve un problema similar conocido como VRP o Vehicle Routing Problem."
   ]
  },
  {
   "cell_type": "code",
   "execution_count": 25,
   "metadata": {},
   "outputs": [],
   "source": [
    "import networkx as nx\n",
    "from gurobipy import *\n",
    "import matplotlib.pyplot as plt\n",
    "import numpy as np\n",
    "import random\n",
    "\n",
    "random.seed(2122)\n",
    "#3105, 1113 les muestra 3 subtours a la primera, y a la segunda lo resuelve; \n",
    "#2122, 3143 les muestra 2 subtours a la primera, y demora 3 iteraciones en resolver"
   ]
  },
  {
   "cell_type": "code",
   "execution_count": 26,
   "metadata": {},
   "outputs": [],
   "source": [
    "def distancia(pos1, pos2):\n",
    "    \"\"\"\n",
    "    distancia -- calcula distancia entre dos posiciones (de nodos) \n",
    "    Parámetros: \n",
    "        - pos1, pos2: tupla de posiciones (x,y)\n",
    "    Retorna distancia entre dos puntos\n",
    "    \"\"\"\n",
    "    x1 = pos1[0]\n",
    "    y1 = pos1[1]\n",
    "    x2 = pos2[0]\n",
    "    y2 = pos2[1]\n",
    "    return np.sqrt((x2 - x1)**2 + (y2 - y1)**2)"
   ]
  },
  {
   "cell_type": "code",
   "execution_count": 27,
   "metadata": {},
   "outputs": [],
   "source": [
    "def graficar(nodos, arcos):\n",
    "    \"\"\"\n",
    "    graficar -- grafica los nodos y arcos entregados\n",
    "    Parámetros: \n",
    "        - nodos: diccionario con los id de los nodos de la forma {id nodo: (pos_x, pos_y)}\n",
    "        - arcos: diccionario con los arcos de la forma {(cola,cabeza): costo}\n",
    "    Retorna en pantalla un gráfico de lo solicitado.\n",
    "    \"\"\"\n",
    "    G = nx.Graph() #esto genera un grafo no dirigido\n",
    "    posiciones = dict()\n",
    "    \n",
    "    for nodo in nodos:\n",
    "        G.add_node(nodo, pos=nodos[nodo])\n",
    "        posiciones[nodo] = nodos[nodo]\n",
    "        \n",
    "# esto se hace exclusivamente si hay por ejemplo 2 opciones de forma de input de alguna variable.\n",
    "# En este caso puede ser lista o dict.\n",
    "    if isinstance(arcos, dict):\n",
    "        for arco in arcos:\n",
    "            G.add_edge(arco[0], arco[1], weight=arcos[arco])\n",
    "    elif isinstance(arcos, list): \n",
    "        for arco in arcos:\n",
    "            G.add_edge(arco[0], arco[1])\n",
    "            \n",
    "    nx.draw(G, pos=posiciones, with_labels=True, node_shape=\"o\", font_size=14)\n",
    "    plt.show()"
   ]
  },
  {
   "cell_type": "markdown",
   "metadata": {},
   "source": [
    "Como se pueden dar cuenta, las dos funciones anteriores serán auxiliares, ya sea para calcular las distancias o costos entre diferentes nodos, o para graficar algun grafo. La función de abajo (datos), lo que hace es generar un grafo completo (es decir, que todos los nodos estén conectados con todos los nodos)."
   ]
  },
  {
   "cell_type": "code",
   "execution_count": 28,
   "metadata": {},
   "outputs": [],
   "source": [
    "def datos():\n",
    "    \"\"\"\n",
    "    datos -- genera datos para el problema\n",
    "    Retorna diccionario para nodos y para arcos\n",
    "    \"\"\"\n",
    "    nodos = dict()\n",
    "    arcos = dict()\n",
    "    n = 10 #número de nodos\n",
    "    \n",
    "    for nodo in range(n):\n",
    "        nodos[nodo] = (random.randint(0,30), random.randint(0,30)) #posición x,y del nodo\n",
    "    for nodo in nodos: #recorre todos los id de los nodos ya creados\n",
    "        for nodo2 in nodos:\n",
    "            if nodo2 > nodo: #grafo completo no dirigido\n",
    "                arcos[(nodo, nodo2)] = distancia(nodos[nodo], nodos[nodo2]) #{id arco: costo}\n",
    "    \n",
    "    return nodos, arcos"
   ]
  },
  {
   "cell_type": "code",
   "execution_count": 29,
   "metadata": {},
   "outputs": [
    {
     "name": "stderr",
     "output_type": "stream",
     "text": [
      "c:\\users\\tatan\\appdata\\local\\programs\\python\\python36\\lib\\site-packages\\networkx\\drawing\\nx_pylab.py:579: MatplotlibDeprecationWarning: \n",
      "The iterable function was deprecated in Matplotlib 3.1 and will be removed in 3.3. Use np.iterable instead.\n",
      "  if not cb.iterable(width):\n"
     ]
    },
    {
     "data": {
      "image/png": "[encoded data removed]",
      "text/plain": [
       "<Figure size 432x288 with 1 Axes>"
      ]
     },
     "metadata": {},
     "output_type": "display_data"
    }
   ],
   "source": [
    "nodos, arcos = datos()\n",
    "graficar(nodos, arcos)"
   ]
  },
  {
   "cell_type": "markdown",
   "metadata": {},
   "source": [
    "Como podrán haber visto más arriba, la primera vez que corren lo anterior y lo grafican tendrán un Warning. Primero, notar que esto no es un error, solo es una advertencia, y a priori podrían seguir usando todo de la misma forma. De hecho, si lo corremos nuevamente, no aparecerá de nuevo el cuadro rojo. Sin embargo, si Googleamos lo que nos dice, nos damos cuenta que es algo interno de NetworkX, y que no tenemos mucho que hacer al respecto. Es clave mencionar esto, porque muchas veces nos puede pasar que nos aparezcan ya sea errores o advertencias en nuestros códigos, y tenemos que ser proactivos para buscar soluciones o entender por qué ocurren."
   ]
  },
  {
   "cell_type": "markdown",
   "metadata": {},
   "source": [
    "Ahora que ya aprendimos a definir un grafo y graficarlo, podemos ir un poco más allá. El problema del TSP consiste en generar un ciclo a mínimo costo, que pase una vez por cada nodo. En esta primera etapa, resolveremos la relajación del problema."
   ]
  },
  {
   "cell_type": "code",
   "execution_count": 30,
   "metadata": {},
   "outputs": [],
   "source": [
    "def solve_TSP(nodos, arcos):\n",
    "    \"\"\"solve_TSP -- función que crea modelo en Gurobi y resuelve su relajación\n",
    "    Parámetros:\n",
    "        - nodos: diccionario con los id de los nodos de la forma {id nodo: (pos_x, pos_y)}\n",
    "        - arcos: diccionario con los arcos de la forma {(cola,cabeza): costo} \n",
    "    Retorna arcos, modelo y variables de la relajación del TSP\n",
    "    \"\"\"\n",
    "    model = Model(\"TSP\")\n",
    "    x = dict()\n",
    "    c = dict()\n",
    "    \n",
    "    # definimos variables x binarias que tomen valor 1 si es que se usa ese arco, 0 e.o.c.\n",
    "    for arco in arcos:\n",
    "        x[arco[0], arco[1]] = model.addVar(vtype=\"binary\", name=\"{},{}\".format(arco[0], arco[1]))\n",
    "        c[arco[0], arco[1]] = arcos[arco]\n",
    "    model.update()\n",
    "\n",
    "    # definimos restricción de que todos los nodos deben tener grado total (entrada + salida) de 2\n",
    "    model.addConstrs((quicksum(x[k,i] for k in nodos if k<i) + quicksum(x[i,k] for k in nodos if k>i) == 2) for i in nodos)\n",
    "    model.update()\n",
    "    \n",
    "    # definimos la función objetivo del problema, que es minimizar costos por arcos\n",
    "    model.setObjective(quicksum(c[i,j]*x[i,j] for i in nodos for j in nodos if j>i), GRB.MINIMIZE)\n",
    "    model.update()\n",
    "    \n",
    "    model.Params.OutputFlag = 0 # le pedimos a Gurobi que no nos printee todos sus cálculos (por defecto parámetro = 1)\n",
    "    model.optimize() \n",
    "    \n",
    "    edges = dict()\n",
    "    for (i,j) in x:\n",
    "        if x[i,j].X > 0: # filtramos solamente a los arcos que toman valor mayor a 0 (que son los que uso en mi solución)\n",
    "            edges[i,j] = distancia(nodos[i], nodos[j])\n",
    "            \n",
    "    return edges, model, x"
   ]
  },
  {
   "cell_type": "code",
   "execution_count": 31,
   "metadata": {},
   "outputs": [
    {
     "data": {
      "image/png": "[encoded data removed]",
      "text/plain": [
       "<Figure size 432x288 with 1 Axes>"
      ]
     },
     "metadata": {},
     "output_type": "display_data"
    }
   ],
   "source": [
    "edges, modelo, variables = solve_TSP(nodos, arcos)\n",
    "graficar(nodos, edges)"
   ]
  },
  {
   "cell_type": "markdown",
   "metadata": {},
   "source": [
    "Acá nos damos cuenta que al resolver la versión relajada del problema, es posible que existan varios subciclos en nuestra solución. Para evitar esto, se recurre a lo que se conoce como 'lazy constraints', que se van agregando a medida que se van necesitando. Así, se evita aumentar la dimensionalidad del problema y se va resolviendo hasta que tengamos la solución que realmente nos sirve."
   ]
  },
  {
   "cell_type": "code",
   "execution_count": 32,
   "metadata": {},
   "outputs": [],
   "source": [
    "def subtours(arcos_usados, model, x):\n",
    "    \"\"\"subtours -- agrega restricción para evitar subtour específico que se le entrega\n",
    "    Parámetros:\n",
    "        - arcos_usados: lista de arcos de la solución actual\n",
    "    Retorna True si es que se agregó un corte, Falso e.o.c.\n",
    "    \"\"\"\n",
    "    G_aux = nx.Graph()\n",
    "    G_aux.add_edges_from(arcos_usados)\n",
    "    componentes = list(nx.connected_components(G_aux)) # generamos una lista de los nodos que están conectados entre sí\n",
    "    print(\"Nodos conectados entre sí: {}\".format(componentes))\n",
    "    corte = False\n",
    "            \n",
    "    for S in componentes: #revisamos cada uno de los subciclos formados y agregamos restricción para ese subtour\n",
    "        if len(S) == len(arcos_usados):\n",
    "            return corte\n",
    "        else: # len(S) < len(arcos_usados):\n",
    "            model.addConstr(quicksum(x[i,j] for i in S for j in S if j > i) <= len(S)-1, f\"subtour {S}\")\n",
    "            model.update()\n",
    "            corte = True\n",
    "    \n",
    "    return corte"
   ]
  },
  {
   "cell_type": "code",
   "execution_count": 33,
   "metadata": {},
   "outputs": [],
   "source": [
    "def modelo_con_cortes(model, x):\n",
    "    \"\"\"modelo_con_cortes -- continúa la resolución del modelo anterior, ahora llamado a las restricciones de subtours\n",
    "    Parámetros:\n",
    "        - model: modelo de Gurobi\n",
    "        - x: diccionario con variables antes definidas en el modelo\n",
    "    Retorna en pantalla un gráfico de cada una de las soluciones parciales y la final del problema.\n",
    "    \"\"\"\n",
    "    while True: # re-optimizamos hasta que no queden subciclos\n",
    "        model.optimize()\n",
    "                    \n",
    "        arcos_usados = []\n",
    "        for (i,j) in x:\n",
    "            if x[i,j].X > 0:\n",
    "                arcos_usados.append((i,j))\n",
    "        print(\"Arcos usados en la solución: {}\".format(arcos_usados))\n",
    "        \n",
    "        if subtours(arcos_usados, model, x) == False:\n",
    "            graficar(nodos, arcos_usados)\n",
    "            print(\"Solución óptima encontrada\")\n",
    "            break\n",
    "        else:\n",
    "            graficar(nodos, arcos_usados)"
   ]
  },
  {
   "cell_type": "code",
   "execution_count": 34,
   "metadata": {},
   "outputs": [
    {
     "name": "stdout",
     "output_type": "stream",
     "text": [
      "Arcos usados en la solución: [(0, 1), (0, 7), (1, 7), (2, 6), (2, 9), (3, 4), (3, 8), (4, 5), (5, 9), (6, 8)]\n",
      "Nodos conectados entre sí: [{0, 1, 7}, {2, 3, 4, 5, 6, 8, 9}]\n"
     ]
    },
    {
     "data": {
      "image/png": "[encoded data removed]",
      "text/plain": [
       "<Figure size 432x288 with 1 Axes>"
      ]
     },
     "metadata": {},
     "output_type": "display_data"
    },
    {
     "name": "stdout",
     "output_type": "stream",
     "text": [
      "Arcos usados en la solución: [(0, 5), (0, 7), (1, 7), (1, 9), (2, 4), (2, 6), (3, 4), (3, 8), (5, 9), (6, 8)]\n",
      "Nodos conectados entre sí: [{0, 1, 5, 7, 9}, {2, 3, 4, 6, 8}]\n"
     ]
    },
    {
     "data": {
      "image/png": "[encoded data removed]",
      "text/plain": [
       "<Figure size 432x288 with 1 Axes>"
      ]
     },
     "metadata": {},
     "output_type": "display_data"
    },
    {
     "name": "stdout",
     "output_type": "stream",
     "text": [
      "Arcos usados en la solución: [(0, 4), (0, 7), (1, 5), (1, 7), (2, 6), (2, 9), (3, 4), (3, 8), (5, 9), (6, 8)]\n",
      "Nodos conectados entre sí: [{0, 1, 2, 3, 4, 5, 6, 7, 8, 9}]\n"
     ]
    },
    {
     "data": {
      "image/png": "[encoded data removed]",
      "text/plain": [
       "<Figure size 432x288 with 1 Axes>"
      ]
     },
     "metadata": {},
     "output_type": "display_data"
    },
    {
     "name": "stdout",
     "output_type": "stream",
     "text": [
      "Solución óptima encontrada\n"
     ]
    }
   ],
   "source": [
    "modelo_con_cortes(modelo, variables)"
   ]
  }
 ],
 "metadata": {
  "kernelspec": {
   "display_name": "Python 3",
   "language": "python",
   "name": "python3"
  },
  "language_info": {
   "codemirror_mode": {
    "name": "ipython",
    "version": 3
   },
   "file_extension": ".py",
   "mimetype": "text/x-python",
   "name": "python",
   "nbconvert_exporter": "python",
   "pygments_lexer": "ipython3",
   "version": "3.6.4"
  }
 },
 "nbformat": 4,
 "nbformat_minor": 2
}
