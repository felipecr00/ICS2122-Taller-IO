{
 "cells": [
  {
   "cell_type": "markdown",
   "metadata": {},
   "source": [
    "![](guro.png)"
   ]
  },
  {
   "cell_type": "markdown",
   "metadata": {},
   "source": [
    "# Ayudantia 3: Gurobi\n",
    "\n",
    "### Guía de instalación:\n",
    "\n",
    "1. Tener instalado python\n",
    "2. Registrarse en gurobi con el mail UC [https://www.gurobi.com/es/]\n",
    "3. Descargar Gurobi [http://www.gurobi.com/downloads/gurobi-optimizer]\n",
    "4. Pedir Licencia académica [http://www.gurobi.com/downloads/licenses/license-center]\n",
    "5. Activar la licencia usando la red wifi UC (debe hacerse desde la red de la UC). Siga la documentación [http://www.gurobi.com/documentation/]\n",
    "6. Instalar Gurobi en Anaconda*.\n",
    "7. Seguir instrucciones de instalación en [http://www.gurobi.com/documentation/]\n",
    "\n",
    "\n",
    "Crear un modelo de gurobi requiere de 6 pasos\n",
    "\n",
    "* __Crear modelo:__ m = Model( )\n",
    "* __Agregar Variables:__ x = m.addVar(...)\n",
    "* __Actualizar cambios:__ m.update( )\n",
    "* __Fijar func. objetivo:__ m.setObjective(...)\n",
    "* __Agregar restricciones:__ m.addConstr(...)\n",
    "* __Optimizar!:__ m.optimize( )"
   ]
  },
  {
   "cell_type": "code",
   "execution_count": 95,
   "metadata": {},
   "outputs": [],
   "source": [
    "from gurobipy import *\n",
    "from random import randint, choice"
   ]
  },
  {
   "cell_type": "markdown",
   "metadata": {},
   "source": [
    "# Gurobi infeasible model\n",
    "\n",
    "* Resolver un modelo de asignación de trabajadores a turnos\n",
    "* Este modelo en particular es infactible, intentaremos determinar a que se debe."
   ]
  },
  {
   "cell_type": "code",
   "execution_count": 96,
   "metadata": {},
   "outputs": [],
   "source": [
    "m = Model(\"planificacion\")\n",
    "\n",
    "semanas = 2\n",
    "dias = [\"L\",\"M\",\"W\",\"J\",\"V\",\"S\",\"D\"]\n",
    "\n",
    "turnos = [v+str(i+1) for i, v in enumerate(dias*semanas)] # [\"L1\",\"M2\",\"W3\",\"J4\",\"V5\",\"S6\",\"D7\",\"L8\"...]\n",
    "trabajadores = [\"Tomas\", \"Javiera\", \"Marcelo\", \"Jorge\", \"Ana\", \"Camila\", \"Diego\"]\n"
   ]
  },
  {
   "cell_type": "code",
   "execution_count": 97,
   "metadata": {},
   "outputs": [
    {
     "name": "stdout",
     "output_type": "stream",
     "text": [
      "{'L1': 6, 'M2': 6, 'W3': 4, 'J4': 3, 'V5': 2, 'S6': 4, 'D7': 6, 'L8': 3, 'M9': 2, 'W10': 6, 'J11': 7, 'V12': 4, 'S13': 2, 'D14': 2}\n"
     ]
    }
   ],
   "source": [
    "# requerimientos por turno\n",
    "requerimientos = {}\n",
    "for i in turnos:\n",
    "    requerimientos[i] = randint(2,7)\n",
    "print(requerimientos)"
   ]
  },
  {
   "cell_type": "code",
   "execution_count": 98,
   "metadata": {},
   "outputs": [],
   "source": [
    "# pagos asociados\n",
    "pago = {\"Tomas\":  10, \n",
    "        \"Javiera\":12, \n",
    "        \"Marcelo\":10, \n",
    "        \"Jorge\":  8, \n",
    "        \"Ana\":    8, \n",
    "        \"Camila\": 9, \n",
    "        \"Diego\":  11}"
   ]
  },
  {
   "cell_type": "markdown",
   "metadata": {},
   "source": [
    "## Disponibilidad de los trabajadores"
   ]
  },
  {
   "cell_type": "code",
   "execution_count": 99,
   "metadata": {
    "collapsed": true
   },
   "outputs": [
    {
     "name": "stdout",
     "output_type": "stream",
     "text": [
      "<gurobi.tuplelist (58 tuples, 2 values each):\n",
      " ( Tomas   , J4  )\n",
      " ( Tomas   , J11 )\n",
      " ( Tomas   , L1  )\n",
      " ( Tomas   , M2  )\n",
      " ( Tomas   , V12 )\n",
      " ( Tomas   , D7  )\n",
      " ( Tomas   , S6  )\n",
      " ( Tomas   , S13 )\n",
      " ( Tomas   , M9  )\n",
      " ( Tomas   , L8  )\n",
      " ( Javiera , L8  )\n",
      " ( Javiera , L1  )\n",
      " ( Javiera , V12 )\n",
      " ( Javiera , M2  )\n",
      " ( Javiera , V5  )\n",
      " ( Marcelo , D14 )\n",
      " ( Marcelo , W3  )\n",
      " ( Marcelo , V12 )\n",
      " ( Marcelo , D7  )\n",
      " ( Marcelo , S13 )\n",
      " ( Marcelo , J11 )\n",
      " ( Marcelo , L1  )\n",
      " ( Marcelo , S6  )\n",
      " ( Jorge   , S13 )\n",
      " ( Jorge   , D14 )\n",
      " ( Jorge   , S6  )\n",
      " ( Jorge   , M2  )\n",
      " ( Jorge   , W10 )\n",
      " ( Ana     , S13 )\n",
      " ( Ana     , S6  )\n",
      " ( Ana     , M2  )\n",
      " ( Ana     , V5  )\n",
      " ( Ana     , M9  )\n",
      " ( Ana     , W3  )\n",
      " ( Ana     , W10 )\n",
      " ( Ana     , V12 )\n",
      " ( Ana     , L8  )\n",
      " ( Camila  , S6  )\n",
      " ( Camila  , J11 )\n",
      " ( Camila  , W10 )\n",
      " ( Camila  , W3  )\n",
      " ( Camila  , D7  )\n",
      " ( Camila  , L1  )\n",
      " ( Camila  , M2  )\n",
      " ( Camila  , L8  )\n",
      " ( Camila  , M9  )\n",
      " ( Camila  , V12 )\n",
      " ( Camila  , S13 )\n",
      " ( Diego   , J11 )\n",
      " ( Diego   , S13 )\n",
      " ( Diego   , W3  )\n",
      " ( Diego   , L8  )\n",
      " ( Diego   , D7  )\n",
      " ( Diego   , D14 )\n",
      " ( Diego   , S6  )\n",
      " ( Diego   , M9  )\n",
      " ( Diego   , V12 )\n",
      " ( Diego   , L1  )\n",
      ">\n"
     ]
    }
   ],
   "source": [
    "# optimizamos solo los dias disponibles\n",
    "\n",
    "disponibilidad = []\n",
    "for trabajador in trabajadores:\n",
    "    count = 1\n",
    "    dias_disponibles = randint(5,13)\n",
    "    while(count <= dias_disponibles):\n",
    "        while True:\n",
    "            eleccion = choice(turnos)\n",
    "            if (trabajador,eleccion) not in disponibilidad:\n",
    "                disponibilidad.append((trabajador,eleccion))\n",
    "                break\n",
    "        count += 1\n",
    "disponibilidad = tuplelist(disponibilidad)\n",
    "print(disponibilidad)"
   ]
  },
  {
   "cell_type": "markdown",
   "metadata": {},
   "source": [
    "## Variables de decisión"
   ]
  },
  {
   "cell_type": "markdown",
   "metadata": {},
   "source": [
    "Variable binaria x\\[t,s\\] = 1 si el trabajador t es asignado al turno s"
   ]
  },
  {
   "cell_type": "code",
   "execution_count": 100,
   "metadata": {},
   "outputs": [],
   "source": [
    "x = m.addVars(disponibilidad, ub=1, name=\"x\")"
   ]
  },
  {
   "cell_type": "markdown",
   "metadata": {},
   "source": [
    "## Función Objetivo\n",
    "\n",
    "Minimizar el salario total"
   ]
  },
  {
   "cell_type": "code",
   "execution_count": 101,
   "metadata": {},
   "outputs": [],
   "source": [
    "m.setObjective(sum(pago[t]*x[t,s] for t,s in disponibilidad), GRB.MINIMIZE)"
   ]
  },
  {
   "cell_type": "markdown",
   "metadata": {},
   "source": [
    "## Restricciones asociadas al problema\n",
    "\n",
    "Por cada turno, el numero de trabajadores debe ser igual al que se necesita para ese turno."
   ]
  },
  {
   "cell_type": "code",
   "execution_count": 102,
   "metadata": {},
   "outputs": [],
   "source": [
    "# La funcion sum es aplicable a tuplas, esta retorna la suma de los valores asociados a determinadas keys.\n",
    "# El '*' indica que cualquier valor es aceptado en ese campo, si no colocamos argumentos entonces se retorna la suma\n",
    "# de todos los valores en la tupla\n",
    "# https://www.gurobi.com/documentation/8.1/refman/py_tupledict_sum.html\n",
    "reqCts = m.addConstrs((x.sum('*', s) == requerimientos[s] for s in turnos),\"_\")"
   ]
  },
  {
   "cell_type": "code",
   "execution_count": 103,
   "metadata": {},
   "outputs": [
    {
     "name": "stdout",
     "output_type": "stream",
     "text": [
      "Optimize a model with 14 rows, 58 columns and 58 nonzeros\n",
      "Coefficient statistics:\n",
      "  Matrix range     [1e+00, 1e+00]\n",
      "  Objective range  [8e+00, 1e+01]\n",
      "  Bounds range     [1e+00, 1e+00]\n",
      "  RHS range        [2e+00, 7e+00]\n",
      "Presolve time: 0.01s\n",
      "\n",
      "Solved in 0 iterations and 0.01 seconds\n",
      "Infeasible model\n"
     ]
    }
   ],
   "source": [
    "# right-hand side\n",
    "\n",
    "m.optimize()"
   ]
  },
  {
   "cell_type": "code",
   "execution_count": 104,
   "metadata": {},
   "outputs": [],
   "source": [
    "m.write(\"file_infeasible.lp\")"
   ]
  },
  {
   "cell_type": "markdown",
   "metadata": {},
   "source": [
    "# Modificando un modelo\n",
    "\n",
    "* Cambiar coeficientes (objective, RHS, Matrix, Bounds)\n",
    "* Cambiar Variables (continuas o enteras)\n",
    "* Agregar/Borrar Varaibles o restricciones\n",
    "* feasRelaxS permite crear una relajación factible del modelo\n"
   ]
  },
  {
   "cell_type": "code",
   "execution_count": 105,
   "metadata": {},
   "outputs": [
    {
     "name": "stdout",
     "output_type": "stream",
     "text": [
      "Optimize a model with 14 rows, 86 columns and 86 nonzeros\n",
      "Coefficient statistics:\n",
      "  Matrix range     [1e+00, 1e+00]\n",
      "  Objective range  [1e+00, 1e+00]\n",
      "  Bounds range     [1e+00, 1e+00]\n",
      "  RHS range        [2e+00, 7e+00]\n",
      "Presolve removed 8 rows and 68 columns\n",
      "Presolve time: 0.04s\n",
      "Presolved: 6 rows, 18 columns, 18 nonzeros\n",
      "\n",
      "Iteration    Objective       Primal Inf.    Dual Inf.      Time\n",
      "       0    1.2000000e+01   0.000000e+00   0.000000e+00      0s\n",
      "       0    1.2000000e+01   0.000000e+00   0.000000e+00      0s\n",
      "\n",
      "Solved in 0 iterations and 0.06 seconds\n",
      "Optimal objective  1.200000000e+01\n",
      "\n",
      "    Variable            X \n",
      "-------------------------\n",
      "     ArtP_L1            1 \n",
      "     ArtP_M2            1 \n",
      "     ArtP_J4            2 \n",
      "     ArtP_D7            2 \n",
      "    ArtP_W10            3 \n",
      "    ArtP_J11            3 \n"
     ]
    }
   ],
   "source": [
    "# Argumentos \n",
    "# modelo que minimiza la cantidad donde la solucion viola los limites y las restricciones del modelo original\n",
    "# relaxobjtype: 0 para que minimizar la suma de las magnitudes de limites y restricciones violados\n",
    "# relaxobjtype: 1 para que minimizar la suma de los cuadrados de limites y restricciones violados\n",
    "# relaxobjtype: 2 para que minimizar la suma total de limites y restricciones violados\n",
    "\n",
    "# si una restriccion fuera violada por 2, la funcion contribuye en 2 a la relajacion con 0, 2*2 en 1 y 1 en 2.\n",
    "\n",
    "# minrelax: booleano que controla el tipo de relajacion creado false minimiza e costo de la violacion, true encuentra una solucion que minimiza el obejtivo original\n",
    "# solo a traves de estas soluciones minimiza el costo de la violacion (costoso)\n",
    "\n",
    "# vrelax: indica cuales variable pueden ser relajadas\n",
    "# crelax: indica que restricciones pueden ser relajadas\n",
    "orignumvars = m.NumVars\n",
    "m.feasRelaxS(0, False,False, True)\n",
    "m.optimize()\n",
    "\n",
    "m.printAttr('X',\"Art*\")\n"
   ]
  },
  {
   "cell_type": "code",
   "execution_count": 107,
   "metadata": {},
   "outputs": [
    {
     "name": "stdout",
     "output_type": "stream",
     "text": [
      "12.0\n"
     ]
    }
   ],
   "source": [
    "print(m.objVal)"
   ]
  },
  {
   "cell_type": "code",
   "execution_count": 109,
   "metadata": {
    "collapsed": true
   },
   "outputs": [
    {
     "name": "stdout",
     "output_type": "stream",
     "text": [
      "\n",
      "    Variable            X \n",
      "-------------------------\n",
      " x[Tomas,J4]            1 \n",
      "x[Tomas,J11]            1 \n",
      " x[Tomas,L1]            1 \n",
      " x[Tomas,M2]            1 \n",
      " x[Tomas,D7]            1 \n",
      " x[Tomas,S6]            1 \n",
      "x[Tomas,S13]            1 \n",
      " x[Tomas,M9]            1 \n",
      " x[Tomas,L8]            1 \n",
      "x[Javiera,L8]            1 \n",
      "x[Javiera,L1]            1 \n",
      "x[Javiera,V12]            1 \n",
      "x[Javiera,M2]            1 \n",
      "x[Javiera,V5]            1 \n",
      "x[Marcelo,D14]            1 \n",
      "x[Marcelo,W3]            1 \n",
      "x[Marcelo,V12]            1 \n",
      "x[Marcelo,D7]            1 \n",
      "x[Marcelo,J11]            1 \n",
      "x[Marcelo,L1]            1 \n",
      "x[Jorge,D14]            1 \n",
      " x[Jorge,S6]            1 \n",
      " x[Jorge,M2]            1 \n",
      "x[Jorge,W10]            1 \n",
      "  x[Ana,S13]            1 \n",
      "   x[Ana,S6]            1 \n",
      "   x[Ana,M2]            1 \n",
      "   x[Ana,V5]            1 \n",
      "   x[Ana,W3]            1 \n",
      "  x[Ana,W10]            1 \n",
      "   x[Ana,L8]            1 \n",
      "x[Camila,J11]            1 \n",
      "x[Camila,W10]            1 \n",
      "x[Camila,W3]            1 \n",
      "x[Camila,D7]            1 \n",
      "x[Camila,L1]            1 \n",
      "x[Camila,M2]            1 \n",
      "x[Camila,V12]            1 \n",
      "x[Diego,J11]            1 \n",
      " x[Diego,W3]            1 \n",
      " x[Diego,D7]            1 \n",
      " x[Diego,S6]            1 \n",
      " x[Diego,M9]            1 \n",
      "x[Diego,V12]            1 \n",
      " x[Diego,L1]            1 \n",
      "     ArtP_L1            1 \n",
      "     ArtP_M2            1 \n",
      "     ArtP_J4            2 \n",
      "     ArtP_D7            2 \n",
      "    ArtP_W10            3 \n",
      "    ArtP_J11            3 \n"
     ]
    }
   ],
   "source": [
    "m.printAttr('X')"
   ]
  },
  {
   "cell_type": "code",
   "execution_count": 84,
   "metadata": {},
   "outputs": [],
   "source": [
    "m.write(\"file.lp\")"
   ]
  },
  {
   "cell_type": "code",
   "execution_count": 108,
   "metadata": {
    "collapsed": true
   },
   "outputs": [
    {
     "name": "stdout",
     "output_type": "stream",
     "text": [
      "1.0\n",
      "1.0\n",
      "1.0\n",
      "1.0\n",
      "0.0\n",
      "1.0\n",
      "1.0\n",
      "1.0\n",
      "1.0\n",
      "1.0\n",
      "1.0\n",
      "1.0\n",
      "1.0\n",
      "1.0\n",
      "1.0\n",
      "1.0\n",
      "1.0\n",
      "1.0\n",
      "1.0\n",
      "0.0\n",
      "1.0\n",
      "1.0\n",
      "0.0\n",
      "0.0\n",
      "1.0\n",
      "1.0\n",
      "1.0\n",
      "1.0\n",
      "1.0\n",
      "1.0\n",
      "1.0\n",
      "1.0\n",
      "0.0\n",
      "1.0\n",
      "1.0\n",
      "0.0\n",
      "1.0\n",
      "0.0\n",
      "1.0\n",
      "1.0\n",
      "1.0\n",
      "1.0\n",
      "1.0\n",
      "1.0\n",
      "0.0\n",
      "0.0\n",
      "1.0\n",
      "0.0\n",
      "1.0\n",
      "0.0\n",
      "1.0\n",
      "0.0\n",
      "1.0\n",
      "0.0\n",
      "1.0\n",
      "1.0\n",
      "1.0\n",
      "1.0\n",
      "1.0\n",
      "0.0\n",
      "1.0\n",
      "0.0\n",
      "0.0\n",
      "0.0\n",
      "2.0\n",
      "0.0\n",
      "0.0\n",
      "0.0\n",
      "0.0\n",
      "0.0\n",
      "2.0\n",
      "0.0\n",
      "0.0\n",
      "0.0\n",
      "0.0\n",
      "0.0\n",
      "3.0\n",
      "0.0\n",
      "3.0\n",
      "0.0\n",
      "0.0\n",
      "0.0\n",
      "0.0\n",
      "0.0\n",
      "0.0\n",
      "0.0\n"
     ]
    }
   ],
   "source": [
    "for v in m.getVars():\n",
    "    print(v.x)"
   ]
  },
  {
   "cell_type": "code",
   "execution_count": 106,
   "metadata": {},
   "outputs": [
    {
     "data": {
      "text/plain": [
       "58"
      ]
     },
     "execution_count": 106,
     "metadata": {},
     "output_type": "execute_result"
    }
   ],
   "source": [
    "orignumvars"
   ]
  },
  {
   "cell_type": "code",
   "execution_count": null,
   "metadata": {},
   "outputs": [],
   "source": []
  }
 ],
 "metadata": {
  "kernelspec": {
   "display_name": "Python 3",
   "language": "python",
   "name": "python3"
  },
  "language_info": {
   "codemirror_mode": {
    "name": "ipython",
    "version": 3
   },
   "file_extension": ".py",
   "mimetype": "text/x-python",
   "name": "python",
   "nbconvert_exporter": "python",
   "pygments_lexer": "ipython3",
   "version": "3.6.2"
  }
 },
 "nbformat": 4,
 "nbformat_minor": 2
}
