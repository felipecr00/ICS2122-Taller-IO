{
 "cells": [
  {
   "cell_type": "markdown",
   "metadata": {},
   "source": [
    "# Python fundamentos"
   ]
  },
  {
   "cell_type": "code",
   "execution_count": null,
   "metadata": {},
   "outputs": [],
   "source": [
    "# conociendo python\n",
    "print(\"hola\")"
   ]
  },
  {
   "cell_type": "code",
   "execution_count": 1,
   "metadata": {},
   "outputs": [
    {
     "name": "stdout",
     "output_type": "stream",
     "text": [
      "El resultado de mi operacion es = 8\n",
      "Las variables son var1 = 5 var2 = 3\n"
     ]
    }
   ],
   "source": [
    "# variables, print y str\n",
    "\n",
    "# Reakizamos la suma de dos numeros usando variables\n",
    "variable_1 = 5\n",
    "variable_2 = 3\n",
    "\n",
    "# la funcion str() permite transformar todo a string \"\"\n",
    "print(\"El resultado de mi operacion es = \" + str(variable_1 + variable_2))\n",
    "print('Las variables son var1 = {}; var2 = {}'.format(variable_1, variable_2))"
   ]
  },
  {
   "cell_type": "code",
   "execution_count": 2,
   "metadata": {},
   "outputs": [
    {
     "name": "stdout",
     "output_type": "stream",
     "text": [
      "El resultado de mi operacion es = 10\n"
     ]
    }
   ],
   "source": [
    "# Podemos sobreescribir las variables de la siguiente forma:\n",
    "variable_1 = 6\n",
    "variable_2 = 4\n",
    "print(\"El resultado de mi operacion es = \" + str(variable_1 + variable_2 ))"
   ]
  },
  {
   "cell_type": "markdown",
   "metadata": {},
   "source": [
    "# If, elif y else"
   ]
  },
  {
   "cell_type": "code",
   "execution_count": 9,
   "metadata": {},
   "outputs": [
    {
     "name": "stdout",
     "output_type": "stream",
     "text": [
      "No soy mayor a 5\n"
     ]
    }
   ],
   "source": [
    "# control de flujo\n",
    "# if, else if, else\n",
    "\n",
    "numero = -4\n",
    "if(numero > 5):\n",
    "    print(\"Hola soy > 5\")\n",
    "elif(numero < 5 and numero > 0):\n",
    "    print(\"Hola soy < 5 y mayor a 0\")\n",
    "else:\n",
    "    print(\"No soy mayor a 5\")\n",
    "    "
   ]
  },
  {
   "cell_type": "markdown",
   "metadata": {},
   "source": [
    "# Iteradores"
   ]
  },
  {
   "cell_type": "code",
   "execution_count": null,
   "metadata": {},
   "outputs": [],
   "source": [
    "# los usamos para recorrer o realizar muchas veces una operacion\n",
    "\n",
    "# usar for\n",
    "# range() parte del 0 al numero que le coloques - 1\n",
    "print(\"primera forma\")\n",
    "for i in range(10):\n",
    "    print(i)\n",
    "    \n",
    "print()\n",
    "\n",
    "print(\"segunda forma\")\n",
    "for i in [1,2,3,4,5]:\n",
    "    print(i*2)\n",
    "        \n",
    "print()\n",
    "\n",
    "for i in \"hola\":\n",
    "    print(i)\n",
    "    \n"
   ]
  },
  {
   "cell_type": "code",
   "execution_count": null,
   "metadata": {},
   "outputs": [],
   "source": [
    "# usar while\n",
    "# Evaluamos la condicion bool como argumento de la función\n",
    "\n",
    "i = 0\n",
    "while(i < 10):\n",
    "    print(i)\n",
    "    i = i + 1\n",
    "    "
   ]
  },
  {
   "cell_type": "code",
   "execution_count": null,
   "metadata": {},
   "outputs": [],
   "source": [
    "var = True\n",
    "j = 0\n",
    "\n",
    "while(var):\n",
    "    print(j)\n",
    "    j = j + 1\n",
    "    if(j>10):\n",
    "        var = False\n",
    "    \n",
    "    "
   ]
  },
  {
   "cell_type": "markdown",
   "metadata": {},
   "source": [
    "# Estructuras de datos"
   ]
  },
  {
   "cell_type": "markdown",
   "metadata": {},
   "source": [
    "# Listas"
   ]
  },
  {
   "cell_type": "code",
   "execution_count": 2,
   "metadata": {},
   "outputs": [
    {
     "name": "stdout",
     "output_type": "stream",
     "text": [
      "['manzana', 'pera', 'platano', 'pan', 'chocolate']\n",
      "\n",
      "manzana\n",
      "pera\n",
      "platano\n",
      "pan\n",
      "chocolate\n",
      "[0, 1, 2, 3, 4, 5, 6, 7, 8, 9]\n"
     ]
    }
   ],
   "source": [
    "# listas\n",
    "mi_producto = 'chocolate'\n",
    "\n",
    "lista_super = ['manzana','pera','platano','pan', mi_producto]\n",
    "print(lista_super)\n",
    "print()\n",
    "for i in lista_super:\n",
    "    print(i)\n",
    "    \n",
    "# pythonic way\n",
    "numeros = [i for i in range(10)]\n",
    "print(numeros)\n"
   ]
  },
  {
   "cell_type": "code",
   "execution_count": null,
   "metadata": {},
   "outputs": [],
   "source": [
    "# COnseguir un elemento a través del indice que ocupa en la lista\n",
    "print(lista_super[0])"
   ]
  },
  {
   "cell_type": "code",
   "execution_count": null,
   "metadata": {},
   "outputs": [],
   "source": [
    "# si queremos saber cuantos elementos hay en la lista\n",
    "print(len(lista_super))"
   ]
  },
  {
   "cell_type": "code",
   "execution_count": null,
   "metadata": {},
   "outputs": [],
   "source": [
    "lista_compleja = [['manzanas','pera'],\n",
    "                  ['pasta','cepillo'],\n",
    "                  ['super 8','negrita']]\n",
    "\n",
    "for i in lista_compleja:\n",
    "    print(i)\n"
   ]
  },
  {
   "cell_type": "code",
   "execution_count": null,
   "metadata": {},
   "outputs": [],
   "source": [
    "print(lista_compleja[0])"
   ]
  },
  {
   "cell_type": "code",
   "execution_count": null,
   "metadata": {},
   "outputs": [],
   "source": [
    "print(lista_compleja[0][0])"
   ]
  },
  {
   "cell_type": "markdown",
   "metadata": {},
   "source": [
    "# Diccionarios\n"
   ]
  },
  {
   "cell_type": "code",
   "execution_count": null,
   "metadata": {},
   "outputs": [],
   "source": [
    "# funciona con el par key value --> dicc = {key:value}\n",
    "diccionario_precios = {\"manzana\":100,\"naranja\":150,\"peras\":100}\n",
    "diccionario_precios"
   ]
  },
  {
   "cell_type": "code",
   "execution_count": null,
   "metadata": {},
   "outputs": [],
   "source": [
    "diccionario_precios[\"manzana\"]"
   ]
  },
  {
   "cell_type": "code",
   "execution_count": null,
   "metadata": {},
   "outputs": [],
   "source": [
    "diccionario_precios.keys()"
   ]
  },
  {
   "cell_type": "code",
   "execution_count": null,
   "metadata": {},
   "outputs": [],
   "source": [
    "diccionario_precios[\"platano\"] = 300\n",
    "diccionario_precios"
   ]
  },
  {
   "cell_type": "code",
   "execution_count": null,
   "metadata": {},
   "outputs": [],
   "source": [
    "diccionario_precios[\"manzana\"] = 50\n",
    "diccionario_precios"
   ]
  },
  {
   "cell_type": "code",
   "execution_count": null,
   "metadata": {},
   "outputs": [],
   "source": [
    "diccionario_precios[\"paltas\"] = [120,200,250]\n",
    "diccionario_precios"
   ]
  },
  {
   "cell_type": "code",
   "execution_count": null,
   "metadata": {},
   "outputs": [],
   "source": [
    "diccionario_precios[\"paltas\"][1]"
   ]
  },
  {
   "cell_type": "code",
   "execution_count": null,
   "metadata": {},
   "outputs": [],
   "source": [
    "d= {1:1}\n",
    "d2 ={2:2}\n",
    "{**d,**d2,3:3}"
   ]
  },
  {
   "cell_type": "markdown",
   "metadata": {},
   "source": [
    "# Funciones y Clases"
   ]
  },
  {
   "cell_type": "code",
   "execution_count": null,
   "metadata": {},
   "outputs": [],
   "source": [
    "# funcion para pasar de clecius a kelvin\n",
    "def calcular_temperatura(tc):\n",
    "    tk = tc + 273\n",
    "    print(tk)\n",
    "\n",
    "for i in range(0,100):\n",
    "    calcular_temperatura(i)"
   ]
  },
  {
   "cell_type": "code",
   "execution_count": null,
   "metadata": {},
   "outputs": [],
   "source": [
    "def calculadora(a, b, oper):\n",
    "    if oper == 'suma':\n",
    "        print(a+b)\n",
    "    elif oper == 'resta':\n",
    "        print(a-b)\n",
    "    else:\n",
    "        print(\"no has ingresado un oper valida\")\n",
    "        \n",
    "var = calculadora(5, 3, 'suma')\n",
    "print(var)"
   ]
  },
  {
   "cell_type": "markdown",
   "metadata": {},
   "source": [
    "# Clases"
   ]
  },
  {
   "cell_type": "code",
   "execution_count": 12,
   "metadata": {},
   "outputs": [],
   "source": [
    "# como declarar una clase\n",
    "class Auto:\n",
    "    def __init__(self, color, marca, puertas):\n",
    "        self.color = color\n",
    "        self.marca = marca\n",
    "        self.puertas = puertas\n",
    "    \n",
    "    \n",
    "    def encender(self):\n",
    "        print(\"El auto se ha encendido\")\n",
    "        \n",
    "    def __repr__(self):\n",
    "        return \"Soy el auto marca {}\".format(self.marca)"
   ]
  },
  {
   "cell_type": "code",
   "execution_count": 13,
   "metadata": {},
   "outputs": [],
   "source": [
    "a1 = Auto('rojo','mazda',4)\n",
    "a2 = Auto('azul','audi',3)\n",
    "a3 = Auto('verde','ford',4)"
   ]
  },
  {
   "cell_type": "code",
   "execution_count": 15,
   "metadata": {},
   "outputs": [
    {
     "name": "stdout",
     "output_type": "stream",
     "text": [
      "El auto se ha encendido\n",
      "rojo\n",
      "Soy el auto marca mazda\n"
     ]
    }
   ],
   "source": [
    "a1.encender()\n",
    "print(a1.color)\n",
    "print(a1)"
   ]
  },
  {
   "cell_type": "code",
   "execution_count": null,
   "metadata": {},
   "outputs": [],
   "source": []
  }
 ],
 "metadata": {
  "kernelspec": {
   "display_name": "Python 3",
   "language": "python",
   "name": "python3"
  },
  "language_info": {
   "codemirror_mode": {
    "name": "ipython",
    "version": 3
   },
   "file_extension": ".py",
   "mimetype": "text/x-python",
   "name": "python",
   "nbconvert_exporter": "python",
   "pygments_lexer": "ipython3",
   "version": "3.6.2"
  }
 },
 "nbformat": 4,
 "nbformat_minor": 2
}
