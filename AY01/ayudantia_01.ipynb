{
 "cells": [
  {
   "cell_type": "markdown",
   "metadata": {},
   "source": [
    "# Ayudantía 1 Taller de Investigación Operativa\n",
    "\n",
    "## Python fundamentos y preparación de entornos de desarrollo"
   ]
  },
  {
   "cell_type": "markdown",
   "metadata": {},
   "source": [
    "Links de interés:\n",
    "\n",
    "Entornos de desarrollo: \n",
    "\n",
    "* https://www.python.org \n",
    "* https://www.jetbrains.com/pycharm/\n",
    "* https://www.anaconda.com/\n",
    "* https://code.visualstudio.com/\n",
    "\n",
    "Tips and tricks\n",
    "\n",
    "* Un resumen de las principales librerías de Python: https://lectures.quantecon.org/py/\n",
    "* Herramienta para liberar y descargar papers: https://t.me/scihubot\n",
    "* Markdown Cheatsheet: https://github.com/adam-p/markdown-here/wiki/Markdown-Cheatsheet"
   ]
  },
  {
   "cell_type": "markdown",
   "metadata": {},
   "source": [
    "## Jupyter notebook\n",
    "\n",
    "2 Opciones de instalación:\n",
    "\n",
    "1. Instalar a través del comando `pip`\n",
    "```\n",
    "pip install jupyter\n",
    "```\n",
    "\n",
    "2. Instalar a través de la distribución de Anaconda https://www.anaconda.com/"
   ]
  },
  {
   "cell_type": "markdown",
   "metadata": {},
   "source": [
    "## Un breve resumen de conceptos básicos"
   ]
  },
  {
   "cell_type": "code",
   "execution_count": 1,
   "metadata": {},
   "outputs": [
    {
     "name": "stdout",
     "output_type": "stream",
     "text": [
      "hola\n"
     ]
    }
   ],
   "source": [
    "# conociendo Python\n",
    "print(\"hola\")"
   ]
  },
  {
   "cell_type": "code",
   "execution_count": 2,
   "metadata": {},
   "outputs": [
    {
     "data": {
      "text/plain": [
       "'hola'"
      ]
     },
     "execution_count": 2,
     "metadata": {},
     "output_type": "execute_result"
    }
   ],
   "source": [
    "\"hola\""
   ]
  },
  {
   "cell_type": "code",
   "execution_count": 3,
   "metadata": {},
   "outputs": [
    {
     "name": "stdout",
     "output_type": "stream",
     "text": [
      "El resultado de mi operacion es = 8\n",
      "Las variables son var1 = 5; var2 = 3\n",
      "Las variables son var1 = 5; var2 = 3\n"
     ]
    }
   ],
   "source": [
    "# variables, print y str\n",
    "\n",
    "# Realizamos la suma de dos numeros usando variables\n",
    "variable_1 = 5\n",
    "variable_2 = 3\n",
    "\n",
    "# la funcion str() permite transformar todo a string \"\"\n",
    "print(\"El resultado de mi operacion es = \" + str(variable_1 + variable_2))\n",
    "print('Las variables son var1 = {}; var2 = {}'.format(variable_1, variable_2))\n",
    "print(f'Las variables son var1 = {variable_1}; var2 = {variable_2}')"
   ]
  },
  {
   "cell_type": "code",
   "execution_count": 4,
   "metadata": {},
   "outputs": [
    {
     "name": "stdout",
     "output_type": "stream",
     "text": [
      "El resultado de mi operacion es = 10\n"
     ]
    }
   ],
   "source": [
    "# Podemos sobreescribir las variables de la siguiente forma:\n",
    "variable_1 = 6\n",
    "variable_2 = 4\n",
    "print(\"El resultado de mi operacion es = \" + str(variable_1 + variable_2 ))"
   ]
  },
  {
   "cell_type": "markdown",
   "metadata": {},
   "source": [
    "# Condicionales y control de flujo: If, elif y else"
   ]
  },
  {
   "cell_type": "code",
   "execution_count": 5,
   "metadata": {},
   "outputs": [
    {
     "name": "stdout",
     "output_type": "stream",
     "text": [
      "No soy mayor a 5\n"
     ]
    }
   ],
   "source": [
    "# control de flujo\n",
    "# if, else if, else\n",
    "\n",
    "numero = -4\n",
    "if(numero > 5):\n",
    "    print(\"Hola soy > 5\")\n",
    "elif(numero < 5 and numero > 0):\n",
    "    print(\"Hola soy < 5 y mayor a 0\")\n",
    "else:\n",
    "    print(\"No soy mayor a 5\")"
   ]
  },
  {
   "cell_type": "code",
   "execution_count": 6,
   "metadata": {
    "collapsed": true
   },
   "outputs": [
    {
     "name": "stdout",
     "output_type": "stream",
     "text": [
      "primera forma\n",
      "0\n",
      "1\n",
      "2\n",
      "3\n",
      "4\n",
      "5\n",
      "6\n",
      "7\n",
      "8\n",
      "9\n",
      "\n",
      "segunda forma\n",
      "2\n",
      "4\n",
      "6\n",
      "8\n",
      "10\n",
      "\n",
      "h\n",
      "o\n",
      "l\n",
      "a\n"
     ]
    }
   ],
   "source": [
    "# los usamos para recorrer o realizar muchas veces una operacion\n",
    "\n",
    "# usar for\n",
    "# range() parte del 0 al numero que le coloques - 1\n",
    "print(\"primera forma\")\n",
    "for i in range(10):\n",
    "    print(i)\n",
    "    \n",
    "print()\n",
    "\n",
    "print(\"segunda forma\")\n",
    "for i in [1,2,3,4,5]:\n",
    "    print(i*2)\n",
    "        \n",
    "print()\n",
    "\n",
    "for i in \"hola\":\n",
    "    print(i)"
   ]
  },
  {
   "cell_type": "code",
   "execution_count": 7,
   "metadata": {
    "collapsed": true
   },
   "outputs": [
    {
     "name": "stdout",
     "output_type": "stream",
     "text": [
      "0\n",
      "1\n",
      "2\n",
      "3\n",
      "4\n",
      "5\n",
      "6\n",
      "7\n",
      "8\n",
      "9\n"
     ]
    }
   ],
   "source": [
    "# usar while\n",
    "# Evaluamos la condicion bool como argumento de la función\n",
    "\n",
    "i = 0\n",
    "while(i < 10):\n",
    "    print(i)\n",
    "    i = i + 1"
   ]
  },
  {
   "cell_type": "code",
   "execution_count": 8,
   "metadata": {
    "collapsed": true
   },
   "outputs": [
    {
     "name": "stdout",
     "output_type": "stream",
     "text": [
      "0\n",
      "1\n",
      "2\n",
      "3\n",
      "4\n",
      "5\n",
      "6\n",
      "7\n",
      "8\n",
      "9\n",
      "10\n"
     ]
    }
   ],
   "source": [
    "var = True\n",
    "j = 0\n",
    "\n",
    "while(var):\n",
    "    print(j)\n",
    "    j = j + 1\n",
    "    if(j>10):\n",
    "        var = False"
   ]
  },
  {
   "cell_type": "markdown",
   "metadata": {},
   "source": [
    "# Estructuras de datos\n",
    "\n",
    "Nos interesa guardar nuestras variables y datos para trabajarlos o procesarlos apropiadamente. Este trabajo se puede realizar apropiadamente con el uso de **estructuras de datos**.\n",
    "\n",
    "Algunas de las estructuras más utilizadas:\n",
    "* Listas\n",
    "* Diccionarios\n",
    "* Colas\n",
    "* Stacks\n",
    "* NamedTuples\n",
    "\n",
    "A continuación les presentamos algunos ejemplos prácticos de su uso."
   ]
  },
  {
   "cell_type": "markdown",
   "metadata": {},
   "source": [
    "# Listas"
   ]
  },
  {
   "cell_type": "code",
   "execution_count": 46,
   "metadata": {},
   "outputs": [
    {
     "name": "stdout",
     "output_type": "stream",
     "text": [
      "['manzana', 'pera', 'platano', 'pan', 'chocolate']\n",
      "\n",
      "manzana\n",
      "pera\n",
      "platano\n",
      "pan\n",
      "chocolate\n",
      "\n",
      "[0, 1, 2, 3, 4, 5, 6, 7, 8, 9]\n"
     ]
    }
   ],
   "source": [
    "# listas\n",
    "mi_producto = 'chocolate'\n",
    "\n",
    "lista_super = ['manzana','pera','platano','pan', mi_producto]\n",
    "print(lista_super)\n",
    "\n",
    "print()\n",
    "\n",
    "for i in lista_super:\n",
    "    print(i)\n",
    "    \n",
    "print()\n",
    "\n",
    "# Pythonic way\n",
    "numeros = [i for i in range(10)]\n",
    "print(numeros)"
   ]
  },
  {
   "cell_type": "code",
   "execution_count": 10,
   "metadata": {},
   "outputs": [
    {
     "name": "stdout",
     "output_type": "stream",
     "text": [
      "manzana\n"
     ]
    }
   ],
   "source": [
    "# Conseguir un elemento a través del índice que ocupa en la lista\n",
    "print(lista_super[0])"
   ]
  },
  {
   "cell_type": "code",
   "execution_count": 11,
   "metadata": {},
   "outputs": [
    {
     "name": "stdout",
     "output_type": "stream",
     "text": [
      "5\n"
     ]
    }
   ],
   "source": [
    "# si queremos saber cuantos elementos hay en la lista\n",
    "print(len(lista_super))"
   ]
  },
  {
   "cell_type": "code",
   "execution_count": 12,
   "metadata": {},
   "outputs": [
    {
     "name": "stdout",
     "output_type": "stream",
     "text": [
      "['manzanas', 'pera']\n",
      "['pasta', 'cepillo']\n",
      "['super 8', 'negrita']\n"
     ]
    }
   ],
   "source": [
    "lista_compleja = [['manzanas','pera'],\n",
    "                  ['pasta','cepillo'],\n",
    "                  ['super 8','negrita']]\n",
    "\n",
    "for i in lista_compleja:\n",
    "    print(i)"
   ]
  },
  {
   "cell_type": "code",
   "execution_count": 13,
   "metadata": {},
   "outputs": [
    {
     "name": "stdout",
     "output_type": "stream",
     "text": [
      "['manzanas', 'pera']\n"
     ]
    }
   ],
   "source": [
    "print(lista_compleja[0])"
   ]
  },
  {
   "cell_type": "code",
   "execution_count": 14,
   "metadata": {},
   "outputs": [
    {
     "name": "stdout",
     "output_type": "stream",
     "text": [
      "manzanas\n"
     ]
    }
   ],
   "source": [
    "print(lista_compleja[0][0])"
   ]
  },
  {
   "cell_type": "markdown",
   "metadata": {},
   "source": [
    "# Diccionarios\n",
    "\n",
    "Los diccionarios son un tipo de estructura de datos que funciona bajo la lógica de los pares **Key** y **Value**; su declaración es de la siguiente manera:\n",
    "```python\n",
    "mi_diccionario = {'Key':'Value'}\n",
    "```\n",
    "Simplemente nombramos una llave y accedemos a la información alojada en valor, veamos un ejemplo:\n",
    "```python\n",
    "diccionario_alumnos = {'Ana': 16622181}\n",
    "```\n",
    "Para acceder a su valor simplemente utilizamos el nombre de la variable que contiene nuestro diccionario y accedemos a alguna de las llaves usando \\[ \\]\n",
    "```python\n",
    "print(diccionario_alumnos['Ana'])\n",
    "> 16622181\n",
    "```\n",
    "\n",
    "Exploremos algunas funcionalidades extra de los diccionarios"
   ]
  },
  {
   "cell_type": "code",
   "execution_count": 15,
   "metadata": {},
   "outputs": [
    {
     "data": {
      "text/plain": [
       "{'manzana': 100, 'naranja': 150, 'peras': 100}"
      ]
     },
     "execution_count": 15,
     "metadata": {},
     "output_type": "execute_result"
    }
   ],
   "source": [
    "# funciona con el par key value --> dicc = {key:value}\n",
    "diccionario_precios = {\"manzana\":100,\"naranja\":150,\"peras\":100}\n",
    "diccionario_precios"
   ]
  },
  {
   "cell_type": "code",
   "execution_count": 16,
   "metadata": {},
   "outputs": [
    {
     "data": {
      "text/plain": [
       "100"
      ]
     },
     "execution_count": 16,
     "metadata": {},
     "output_type": "execute_result"
    }
   ],
   "source": [
    "diccionario_precios[\"manzana\"]"
   ]
  },
  {
   "cell_type": "code",
   "execution_count": 17,
   "metadata": {},
   "outputs": [
    {
     "data": {
      "text/plain": [
       "dict_keys(['manzana', 'naranja', 'peras'])"
      ]
     },
     "execution_count": 17,
     "metadata": {},
     "output_type": "execute_result"
    }
   ],
   "source": [
    "diccionario_precios.keys()"
   ]
  },
  {
   "cell_type": "code",
   "execution_count": 18,
   "metadata": {},
   "outputs": [
    {
     "data": {
      "text/plain": [
       "{'manzana': 100, 'naranja': 150, 'peras': 100, 'platano': 300}"
      ]
     },
     "execution_count": 18,
     "metadata": {},
     "output_type": "execute_result"
    }
   ],
   "source": [
    "diccionario_precios[\"platano\"] = 300\n",
    "diccionario_precios"
   ]
  },
  {
   "cell_type": "code",
   "execution_count": 19,
   "metadata": {},
   "outputs": [
    {
     "data": {
      "text/plain": [
       "{'manzana': 50, 'naranja': 150, 'peras': 100, 'platano': 300}"
      ]
     },
     "execution_count": 19,
     "metadata": {},
     "output_type": "execute_result"
    }
   ],
   "source": [
    "diccionario_precios[\"manzana\"] = 50\n",
    "diccionario_precios"
   ]
  },
  {
   "cell_type": "code",
   "execution_count": 20,
   "metadata": {},
   "outputs": [
    {
     "data": {
      "text/plain": [
       "{'manzana': 50,\n",
       " 'naranja': 150,\n",
       " 'paltas': [120, 200, 250],\n",
       " 'peras': 100,\n",
       " 'platano': 300}"
      ]
     },
     "execution_count": 20,
     "metadata": {},
     "output_type": "execute_result"
    }
   ],
   "source": [
    "diccionario_precios[\"paltas\"] = [120,200,250]\n",
    "diccionario_precios"
   ]
  },
  {
   "cell_type": "code",
   "execution_count": 21,
   "metadata": {},
   "outputs": [
    {
     "data": {
      "text/plain": [
       "200"
      ]
     },
     "execution_count": 21,
     "metadata": {},
     "output_type": "execute_result"
    }
   ],
   "source": [
    "diccionario_precios[\"paltas\"][1]"
   ]
  },
  {
   "cell_type": "code",
   "execution_count": 22,
   "metadata": {},
   "outputs": [
    {
     "data": {
      "text/plain": [
       "{1: 1, 2: 2, 3: 3}"
      ]
     },
     "execution_count": 22,
     "metadata": {},
     "output_type": "execute_result"
    }
   ],
   "source": [
    "d= {1:1}\n",
    "d2 ={2:2}\n",
    "{**d,**d2,3:3}"
   ]
  },
  {
   "cell_type": "markdown",
   "metadata": {},
   "source": [
    "# Funciones y Clases\n",
    "\n",
    "Una **función** es una sección apartada del código que ejecuta ciertas acciones en base a parámetros entregados. Luego puede retornar un valor o no retornar nada. Lo ideal es que podamos reutilizar nuestras funciones en varias secciones del código con diferentes **parámetros**."
   ]
  },
  {
   "cell_type": "code",
   "execution_count": 23,
   "metadata": {
    "collapsed": true
   },
   "outputs": [
    {
     "name": "stdout",
     "output_type": "stream",
     "text": [
      "273\n",
      "274\n",
      "275\n",
      "276\n",
      "277\n",
      "278\n",
      "279\n",
      "280\n",
      "281\n",
      "282\n",
      "283\n",
      "284\n",
      "285\n",
      "286\n",
      "287\n",
      "288\n",
      "289\n",
      "290\n",
      "291\n",
      "292\n",
      "293\n",
      "294\n",
      "295\n",
      "296\n",
      "297\n",
      "298\n",
      "299\n",
      "300\n",
      "301\n",
      "302\n",
      "303\n",
      "304\n",
      "305\n",
      "306\n",
      "307\n",
      "308\n",
      "309\n",
      "310\n",
      "311\n",
      "312\n",
      "313\n",
      "314\n",
      "315\n",
      "316\n",
      "317\n",
      "318\n",
      "319\n",
      "320\n",
      "321\n",
      "322\n",
      "323\n",
      "324\n",
      "325\n",
      "326\n",
      "327\n",
      "328\n",
      "329\n",
      "330\n",
      "331\n",
      "332\n",
      "333\n",
      "334\n",
      "335\n",
      "336\n",
      "337\n",
      "338\n",
      "339\n",
      "340\n",
      "341\n",
      "342\n",
      "343\n",
      "344\n",
      "345\n",
      "346\n",
      "347\n",
      "348\n",
      "349\n",
      "350\n",
      "351\n",
      "352\n",
      "353\n",
      "354\n",
      "355\n",
      "356\n",
      "357\n",
      "358\n",
      "359\n",
      "360\n",
      "361\n",
      "362\n",
      "363\n",
      "364\n",
      "365\n",
      "366\n",
      "367\n",
      "368\n",
      "369\n",
      "370\n",
      "371\n",
      "372\n"
     ]
    }
   ],
   "source": [
    "# funcion para pasar de Celsius a Kelvin\n",
    "def calcular_temperatura(tc):\n",
    "    tk = tc + 273\n",
    "    print(tk)\n",
    "\n",
    "for i in range(0,100):\n",
    "    calcular_temperatura(i)"
   ]
  },
  {
   "cell_type": "code",
   "execution_count": 45,
   "metadata": {},
   "outputs": [
    {
     "name": "stdout",
     "output_type": "stream",
     "text": [
      "8\n"
     ]
    }
   ],
   "source": [
    "def calculadora(a, b, oper):\n",
    "    if oper == 'suma':\n",
    "        print(a + b)\n",
    "    elif oper == 'resta':\n",
    "        print(a - b)\n",
    "    else:\n",
    "        print(\"no has ingresado un oper valida\")\n",
    "        \n",
    "var = calculadora(5, 3, 'suma')\n",
    "var"
   ]
  },
  {
   "cell_type": "markdown",
   "metadata": {},
   "source": [
    "# Clases"
   ]
  },
  {
   "cell_type": "code",
   "execution_count": 25,
   "metadata": {},
   "outputs": [],
   "source": [
    "# como declarar una clase\n",
    "class Auto:\n",
    "    _id = 0\n",
    "    def __init__(self, color, marca, puertas):\n",
    "        Auto._id += 1\n",
    "        self.id = Auto._id\n",
    "        self.color = color\n",
    "        self.marca = marca\n",
    "        self.puertas = puertas\n",
    "    \n",
    "    def encender(self):\n",
    "        print(\"El auto se ha encendido\")\n",
    "        \n",
    "    def __repr__(self):\n",
    "        return \"ID: {} Soy el auto marca {}\".format(self.id,self.marca)"
   ]
  },
  {
   "cell_type": "code",
   "execution_count": 26,
   "metadata": {},
   "outputs": [],
   "source": [
    "a1 = Auto('rojo','mazda',4)\n",
    "a2 = Auto('azul','audi',3)\n",
    "a3 = Auto('verde','ford',4)"
   ]
  },
  {
   "cell_type": "code",
   "execution_count": 27,
   "metadata": {},
   "outputs": [
    {
     "name": "stdout",
     "output_type": "stream",
     "text": [
      "El auto se ha encendido\n",
      "rojo\n",
      "ID: 1 Soy el auto marca mazda\n",
      "ID: 2 Soy el auto marca audi\n",
      "ID: 3 Soy el auto marca ford\n"
     ]
    }
   ],
   "source": [
    "a1.encender()\n",
    "print(a1.color)\n",
    "print(a1)\n",
    "print(a2)\n",
    "print(a3)"
   ]
  },
  {
   "cell_type": "markdown",
   "metadata": {},
   "source": [
    "##  Property Decorators - Getters, Setters, and Deleters\n",
    "\n",
    "En Python, cuando creamos una **Clase**, definimos una serie de **atributos** (que indicarán su estado) y de **métodos** (que marcarán su comportamiento). El acceso a ambos se realiza de manera sencilla mediante el **operador punto**. \n",
    "\n",
    "De la misma forma que se pueden crear métodos para manejar la escritura de un atributo, podríamos hacerlo para su lectura. Son los denominados, de forma genérica, métodos **getter** y **setter**, que nos permiten, respectivamente, obtener o modificar los atributos. \n",
    "\n",
    "En Python es habitual que los atributos, que en un principio son simples datos estáticos, con el tiempo se conviertan en expresiones a calcular dinámicamente o, como ya hemos visto, haya que validarlos de alguna manera. Si actuamos con métodos getter y setter desde el principio podremos hacer esa nueva implementación sin cambiar la forma en la que accedemos a los datos, pero si lo hemos hecho simplemente mediante el operador punto, estaríamos en una situación delicada.\n",
    "\n",
    "Para este tipo de problemas, es que Python propone una solución a través del uso de [properties](https://www.pybonacci.org/2017/01/11/manejo-de-atributos-mediante-propiedades/). Veamos un ejemplo práctico de su aplicación:"
   ]
  },
  {
   "cell_type": "code",
   "execution_count": 28,
   "metadata": {},
   "outputs": [],
   "source": [
    "class Alumno:\n",
    "    def __init__(self, nombre, apellido):\n",
    "        self.nombre = nombre\n",
    "        self.apellido = apellido\n",
    "        #self.email = nombre + '.' + apellido + '@uc.cl'\n",
    "        \n",
    "    @property    \n",
    "    def email(self):\n",
    "        n = self.nombre.lower()\n",
    "        a = self.apellido.lower()\n",
    "        return '{}.{}@uc.cl'.format(n, a)\n",
    "    \n",
    "#     def nombreCompleto(self):\n",
    "#         return \"{} {}\".format(self.nombre, self.apellido)\n",
    "    \n",
    "    @property\n",
    "    def nombreCompleto(self):\n",
    "        return \"{} {}\".format(self.nombre, self.apellido)\n",
    "    \n",
    "    @nombreCompleto.setter\n",
    "    def nombreCompleto(self, nombreAp):\n",
    "        nombre, apellido = nombreAp.split(' ')\n",
    "        self.nombre = nombre\n",
    "        self.apellido = apellido"
   ]
  },
  {
   "cell_type": "code",
   "execution_count": 29,
   "metadata": {},
   "outputs": [],
   "source": [
    "alumno_1 = Alumno('Felipe','Cornejo')"
   ]
  },
  {
   "cell_type": "code",
   "execution_count": 30,
   "metadata": {},
   "outputs": [
    {
     "name": "stdout",
     "output_type": "stream",
     "text": [
      "Felipe\n",
      "felipe.cornejo@uc.cl\n",
      "Felipe Cornejo\n"
     ]
    }
   ],
   "source": [
    "print(alumno_1.nombre)\n",
    "print(alumno_1.email)\n",
    "print(alumno_1.nombreCompleto)"
   ]
  },
  {
   "cell_type": "code",
   "execution_count": 31,
   "metadata": {},
   "outputs": [
    {
     "name": "stdout",
     "output_type": "stream",
     "text": [
      "Marcelo\n",
      "marcelo.cornejo@uc.cl\n",
      "Marcelo Cornejo\n"
     ]
    }
   ],
   "source": [
    "alumno_1.nombre = 'Marcelo'\n",
    "print(alumno_1.nombre)\n",
    "print(alumno_1.email)\n",
    "print(alumno_1.nombreCompleto)"
   ]
  },
  {
   "cell_type": "code",
   "execution_count": 32,
   "metadata": {},
   "outputs": [
    {
     "name": "stdout",
     "output_type": "stream",
     "text": [
      "Marcelo Ortiz\n"
     ]
    }
   ],
   "source": [
    "alumno_1.nombreCompleto = 'Marcelo Ortiz'\n",
    "print(alumno_1.nombreCompleto)"
   ]
  },
  {
   "cell_type": "markdown",
   "metadata": {},
   "source": [
    "## Programación Funcional"
   ]
  },
  {
   "cell_type": "markdown",
   "metadata": {},
   "source": [
    "### Listas por compresión\n",
    "\n",
    "Listas de conjuntos que cumplen con un concepto en particular.\n",
    "\n",
    "Por ejemplo, tenemos una lista de números guardados, y deseamos formar otra lista con los mismos números, pero con su valor al cuadro, el camino \"tradicional\" haría lo siguiente:"
   ]
  },
  {
   "cell_type": "code",
   "execution_count": 33,
   "metadata": {},
   "outputs": [
    {
     "data": {
      "text/plain": [
       "[1, 4, 9, 16]"
      ]
     },
     "execution_count": 33,
     "metadata": {},
     "output_type": "execute_result"
    }
   ],
   "source": [
    "numeros = [1,2,3,4]\n",
    "cuadrado = []\n",
    "for numero in numeros:\n",
    "    cuadrado.append(numero**2)\n",
    "cuadrado"
   ]
  },
  {
   "cell_type": "code",
   "execution_count": 34,
   "metadata": {},
   "outputs": [
    {
     "data": {
      "text/plain": [
       "[1, 4, 9, 16]"
      ]
     },
     "execution_count": 34,
     "metadata": {},
     "output_type": "execute_result"
    }
   ],
   "source": [
    "cuadrado = [i**2 for i in numeros]\n",
    "cuadrado"
   ]
  },
  {
   "cell_type": "code",
   "execution_count": 35,
   "metadata": {},
   "outputs": [
    {
     "data": {
      "text/plain": [
       "[4, 16]"
      ]
     },
     "execution_count": 35,
     "metadata": {},
     "output_type": "execute_result"
    }
   ],
   "source": [
    "cuadrado_pares = [i**2 for i in numeros if i%2==0]\n",
    "cuadrado_pares"
   ]
  },
  {
   "cell_type": "markdown",
   "metadata": {},
   "source": [
    "### Diccionarios por compresión\n",
    "\n",
    "De igual forma como hemos formado las listas, podemos hacer algo similar con los diccionarios.\n",
    "\n",
    "Veamos un ejemplo con el siguiente set de datos proporcionado:"
   ]
  },
  {
   "cell_type": "code",
   "execution_count": 36,
   "metadata": {},
   "outputs": [],
   "source": [
    "from collections import namedtuple\n",
    "\n",
    "Ayudante = namedtuple(\"Ayudante\",[\"nombre\", \"grupo\", \"proyecto\"])\n",
    "ayudantes = [Ayudante('Felipe', 1, 'quimioterapia'),\n",
    "        Ayudante('Regina', 2, 'quimioterapia'),\n",
    "        Ayudante('Nicolas', 3, 'portafolio'),\n",
    "        Ayudante('Isidora', 4, 'cajeros'),\n",
    "        Ayudante('Sebastian', 5, 'cajeros'),\n",
    "        Ayudante('Karla', 6, 'capital'),\n",
    "        Ayudante('Alberto', 7, 'capital'),\n",
    "        Ayudante('Isabella', 8, 'portafolio')]"
   ]
  },
  {
   "cell_type": "markdown",
   "metadata": {},
   "source": [
    "Realizaremos una consulta sobre los **ayudantes** que son tutores del proyecto de **quimioterapias**:"
   ]
  },
  {
   "cell_type": "code",
   "execution_count": 37,
   "metadata": {},
   "outputs": [
    {
     "name": "stdout",
     "output_type": "stream",
     "text": [
      "{'Regina', 'Felipe'}\n"
     ]
    }
   ],
   "source": [
    "ayudantes_quimio = {a.nombre for a in ayudantes if a.proyecto == 'quimioterapia'}  # set comprehension\n",
    "print(ayudantes_quimio)"
   ]
  },
  {
   "cell_type": "markdown",
   "metadata": {},
   "source": [
    "Sin embargo, ahora lo que buscamos es crear un diccionario:"
   ]
  },
  {
   "cell_type": "code",
   "execution_count": 39,
   "metadata": {},
   "outputs": [
    {
     "name": "stdout",
     "output_type": "stream",
     "text": [
      "{'Felipe': Ayudante(nombre='Felipe', grupo=1, proyecto='quimioterapia'), 'Regina': Ayudante(nombre='Regina', grupo=2, proyecto='quimioterapia')}\n"
     ]
    }
   ],
   "source": [
    "dict_ayudantes_quimio = {a.nombre: a for a in ayudantes if a.proyecto == 'quimioterapia'}\n",
    "print(dict_ayudantes_quimio)"
   ]
  },
  {
   "cell_type": "code",
   "execution_count": 40,
   "metadata": {},
   "outputs": [
    {
     "data": {
      "text/plain": [
       "Ayudante(nombre='Felipe', grupo=1, proyecto='quimioterapia')"
      ]
     },
     "execution_count": 40,
     "metadata": {},
     "output_type": "execute_result"
    }
   ],
   "source": [
    "dict_ayudantes_quimio['Felipe']"
   ]
  },
  {
   "cell_type": "markdown",
   "metadata": {},
   "source": [
    "## Lambda Functions\n",
    "\n",
    "Las funciones lambda son una forma alternativa de definir funciones en Python. Estas tienen la gracia que pueden ser definidas de forma anónima, es decir, sin la necesidad de que les pongamos un nombre. Veamos un ejemplo*.\n",
    "\n",
    "```python\n",
    "sumar_uno = lambda x: x+1\n",
    "\n",
    "#es (casi) equivalente a\n",
    "\n",
    "def sumar_uno(x):\n",
    "    return x+1\n",
    "```\n",
    "\n",
    "* _Ejemplo obtenido del curso IIC2233 programación avanzada_"
   ]
  },
  {
   "cell_type": "markdown",
   "metadata": {},
   "source": [
    "Un ejemplo bastante recurrente de la aplicación de este tipo de funciones se realiza en las implementación de las funciones **map/reduce/filter**. Sólo con fines ilustrativos, presentaremos un ejemplo del uso de `map`, puesto que es frecuente encontrar este tipo de declaraciones en la librería de **Gurobi Python**."
   ]
  },
  {
   "cell_type": "code",
   "execution_count": 42,
   "metadata": {},
   "outputs": [
    {
     "data": {
      "text/plain": [
       "[1, 4, 9, 16]"
      ]
     },
     "execution_count": 42,
     "metadata": {},
     "output_type": "execute_result"
    }
   ],
   "source": [
    "numeros = [1,2,3,4]\n",
    "cuad = list(map(lambda x: x**2, numeros))\n",
    "cuad"
   ]
  },
  {
   "cell_type": "code",
   "execution_count": null,
   "metadata": {},
   "outputs": [],
   "source": []
  }
 ],
 "metadata": {
  "kernelspec": {
   "display_name": "Python 3",
   "language": "python",
   "name": "python3"
  },
  "language_info": {
   "codemirror_mode": {
    "name": "ipython",
    "version": 3
   },
   "file_extension": ".py",
   "mimetype": "text/x-python",
   "name": "python",
   "nbconvert_exporter": "python",
   "pygments_lexer": "ipython3",
   "version": "3.6.4"
  }
 },
 "nbformat": 4,
 "nbformat_minor": 2
}
